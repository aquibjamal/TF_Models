{
  "nbformat": 4,
  "nbformat_minor": 0,
  "metadata": {
    "colab": {
      "name": "save_restore_model.ipynb",
      "version": "0.3.2",
      "provenance": []
    },
    "kernelspec": {
      "name": "python2",
      "display_name": "Python 2"
    }
  },
  "cells": [
    {
      "cell_type": "markdown",
      "metadata": {
        "id": "hYHnaAvS_MJ0",
        "colab_type": "text"
      },
      "source": [
        "Save and Restore a model using TensorFlow. This example is using the MNIST database of handwritten digits (http://yann.lecun.com/exdb/mnist/)."
      ]
    },
    {
      "cell_type": "code",
      "metadata": {
        "id": "Uk83JHMT_S4E",
        "colab_type": "code",
        "colab": {
          "base_uri": "https://localhost:8080/",
          "height": 558
        },
        "outputId": "a45b4939-af28-45a3-a3ec-0e4fafd566c1"
      },
      "source": [
        "from __future__ import print_function\n",
        "\n",
        "from tensorflow.examples.tutorials.mnist import input_data\n",
        "mnist=input_data.read_data_sets(\"/tmp/data\", one_hot=True)\n",
        "\n",
        "import tensorflow as tf"
      ],
      "execution_count": 1,
      "outputs": [
        {
          "output_type": "stream",
          "text": [
            "WARNING: Logging before flag parsing goes to stderr.\n",
            "W0822 15:43:01.066257 139766011230080 deprecation.py:323] From <ipython-input-1-c644ebdb1629>:4: read_data_sets (from tensorflow.contrib.learn.python.learn.datasets.mnist) is deprecated and will be removed in a future version.\n",
            "Instructions for updating:\n",
            "Please use alternatives such as official/mnist/dataset.py from tensorflow/models.\n",
            "W0822 15:43:01.068099 139766011230080 deprecation.py:323] From /usr/local/lib/python2.7/dist-packages/tensorflow/contrib/learn/python/learn/datasets/mnist.py:260: maybe_download (from tensorflow.contrib.learn.python.learn.datasets.base) is deprecated and will be removed in a future version.\n",
            "Instructions for updating:\n",
            "Please write your own downloading logic.\n",
            "W0822 15:43:01.073290 139766011230080 deprecation.py:323] From /usr/local/lib/python2.7/dist-packages/tensorflow/contrib/learn/python/learn/datasets/base.py:252: wrapped_fn (from tensorflow.contrib.learn.python.learn.datasets.base) is deprecated and will be removed in a future version.\n",
            "Instructions for updating:\n",
            "Please use urllib or similar directly.\n",
            "W0822 15:43:01.165771 139766011230080 deprecation.py:323] From /usr/local/lib/python2.7/dist-packages/tensorflow/contrib/learn/python/learn/datasets/mnist.py:262: extract_images (from tensorflow.contrib.learn.python.learn.datasets.mnist) is deprecated and will be removed in a future version.\n",
            "Instructions for updating:\n",
            "Please use tf.data to implement this functionality.\n"
          ],
          "name": "stderr"
        },
        {
          "output_type": "stream",
          "text": [
            "Successfully downloaded train-images-idx3-ubyte.gz 9912422 bytes.\n",
            "Extracting /tmp/data/train-images-idx3-ubyte.gz\n"
          ],
          "name": "stdout"
        },
        {
          "output_type": "stream",
          "text": [
            "W0822 15:43:01.559355 139766011230080 deprecation.py:323] From /usr/local/lib/python2.7/dist-packages/tensorflow/contrib/learn/python/learn/datasets/mnist.py:267: extract_labels (from tensorflow.contrib.learn.python.learn.datasets.mnist) is deprecated and will be removed in a future version.\n",
            "Instructions for updating:\n",
            "Please use tf.data to implement this functionality.\n",
            "W0822 15:43:01.563185 139766011230080 deprecation.py:323] From /usr/local/lib/python2.7/dist-packages/tensorflow/contrib/learn/python/learn/datasets/mnist.py:110: dense_to_one_hot (from tensorflow.contrib.learn.python.learn.datasets.mnist) is deprecated and will be removed in a future version.\n",
            "Instructions for updating:\n",
            "Please use tf.one_hot on tensors.\n",
            "W0822 15:43:01.692362 139766011230080 deprecation.py:323] From /usr/local/lib/python2.7/dist-packages/tensorflow/contrib/learn/python/learn/datasets/mnist.py:290: __init__ (from tensorflow.contrib.learn.python.learn.datasets.mnist) is deprecated and will be removed in a future version.\n",
            "Instructions for updating:\n",
            "Please use alternatives such as official/mnist/dataset.py from tensorflow/models.\n"
          ],
          "name": "stderr"
        },
        {
          "output_type": "stream",
          "text": [
            "Successfully downloaded train-labels-idx1-ubyte.gz 28881 bytes.\n",
            "Extracting /tmp/data/train-labels-idx1-ubyte.gz\n",
            "Successfully downloaded t10k-images-idx3-ubyte.gz 1648877 bytes.\n",
            "Extracting /tmp/data/t10k-images-idx3-ubyte.gz\n",
            "Successfully downloaded t10k-labels-idx1-ubyte.gz 4542 bytes.\n",
            "Extracting /tmp/data/t10k-labels-idx1-ubyte.gz\n"
          ],
          "name": "stdout"
        }
      ]
    },
    {
      "cell_type": "code",
      "metadata": {
        "id": "XGvjdlvC_jyc",
        "colab_type": "code",
        "colab": {}
      },
      "source": [
        "#training hyperparameters\n",
        "learning_rate= 0.001\n",
        "batch_size = 100\n",
        "display_step = 1\n",
        "model_path=\"/tmp/model.ckpt\"\n",
        "\n",
        "# network hyperparameters\n",
        "n_hidden_1=256\n",
        "n_hidden_2=256\n",
        "n_input=784\n",
        "n_classes=10\n",
        "\n",
        "#graph input\n",
        "x=tf.placeholder(\"float\", [None, n_input])\n",
        "y=tf.placeholder(\"float\", [None, n_classes])"
      ],
      "execution_count": 0,
      "outputs": []
    },
    {
      "cell_type": "code",
      "metadata": {
        "id": "5yoVjPx-J_pt",
        "colab_type": "code",
        "colab": {}
      },
      "source": [
        "#create model\n",
        "def multilayer_perceptron(x, weights, biases):\n",
        "  #hidden layer with RELU activation\n",
        "  layer_1=tf.add(tf.matmul(x, weights['h1']), biases['b1'])\n",
        "  layer_1=tf.nn.relu(layer_1)\n",
        "  #hidden layer with RELU activation\n",
        "  layer_2=tf.add(tf.matmul(layer_1, weights['h2']), biases['b2'])\n",
        "  layer_2=tf.nn.relu(layer_2)\n",
        "  #output layer with linear activation\n",
        "  out_layer=tf.matmul(layer_2, weights['out'])+biases['out']\n",
        "  return out_layer"
      ],
      "execution_count": 0,
      "outputs": []
    },
    {
      "cell_type": "code",
      "metadata": {
        "id": "D9f1HQXfKk79",
        "colab_type": "code",
        "colab": {}
      },
      "source": [
        "#store layer weights and bias\n",
        "weights = {\n",
        "    'h1':tf.Variable(tf.random_normal([n_input, n_hidden_1])),\n",
        "    'h2':tf.Variable(tf.random_normal([n_hidden_1, n_hidden_2])),\n",
        "    'out':tf.Variable(tf.random_normal([n_hidden_2, n_classes]))\n",
        "}\n",
        "\n",
        "biases={\n",
        "    'b1':tf.Variable(tf.random_normal([n_hidden_1])),\n",
        "    'b2':tf.Variable(tf.random_normal([n_hidden_2])),\n",
        "    'out':tf.Variable(tf.random_normal([n_classes]))\n",
        "}"
      ],
      "execution_count": 0,
      "outputs": []
    },
    {
      "cell_type": "code",
      "metadata": {
        "id": "wqjMnH3zLFX1",
        "colab_type": "code",
        "colab": {
          "base_uri": "https://localhost:8080/",
          "height": 176
        },
        "outputId": "055b717b-9260-41a4-cb4b-5f0be7eeb60a"
      },
      "source": [
        "#construct model\n",
        "pred=multilayer_perceptron(x, weights, biases)\n",
        "\n",
        "#define loss and optimizer\n",
        "cost=tf.reduce_mean(tf.nn.softmax_cross_entropy_with_logits(logits=pred, labels=y))\n",
        "optimizer=tf.train.AdamOptimizer(learning_rate=learning_rate).minimize(cost)\n",
        "\n",
        "#initialize variables\n",
        "init=tf.global_variables_initializer()\n",
        "\n",
        "\n",
        "# saver op to save and restore all the variables\n",
        "saver = tf.train.Saver()"
      ],
      "execution_count": 5,
      "outputs": [
        {
          "output_type": "stream",
          "text": [
            "W0822 16:35:09.828020 139766011230080 deprecation.py:323] From <ipython-input-5-5ecde184d0e1>:4: softmax_cross_entropy_with_logits (from tensorflow.python.ops.nn_ops) is deprecated and will be removed in a future version.\n",
            "Instructions for updating:\n",
            "\n",
            "Future major versions of TensorFlow will allow gradients to flow\n",
            "into the labels input on backprop by default.\n",
            "\n",
            "See `tf.nn.softmax_cross_entropy_with_logits_v2`.\n",
            "\n"
          ],
          "name": "stderr"
        }
      ]
    },
    {
      "cell_type": "code",
      "metadata": {
        "id": "1l92OLmVLiTz",
        "colab_type": "code",
        "colab": {
          "base_uri": "https://localhost:8080/",
          "height": 139
        },
        "outputId": "7655ad28-4d66-4d94-df10-ec87a8676ffb"
      },
      "source": [
        "#running first session\n",
        "print(\"starting 1st session....\")\n",
        "with tf.Session() as sess:\n",
        "  sess.run(init)\n",
        "  \n",
        "  #training cycle\n",
        "  for epoch in range(3):\n",
        "    avg_cost=0.0\n",
        "    total_batch=int(mnist.train.num_examples/batch_size)\n",
        "    #loop over all batches\n",
        "    for i in range(total_batch):\n",
        "      batch_x, batch_y = mnist.train.next_batch(batch_size)\n",
        "      #run optimization (op) and cost op\n",
        "      _, c = sess.run([optimizer, cost], feed_dict={x:batch_x, y:batch_y})\n",
        "      \n",
        "      #compute average loss\n",
        "      avg_cost += c/total_batch\n",
        "      \n",
        "    # display logs per epoch step\n",
        "    if epoch%display_step==0:\n",
        "      print(\"epoch\", epoch+1, \"cost\", avg_cost)\n",
        "      \n",
        "  print(\"first optimization finished\")\n",
        "  \n",
        "  #test model\n",
        "  correct_prediction=tf.equal(tf.argmax(pred,1), tf.argmax(y,1))\n",
        "  \n",
        "  #calculate accuracy\n",
        "  accuracy=tf.reduce_mean(tf.cast(correct_prediction, \"float\"))\n",
        "  print(\"accuracy\",accuracy.eval({x:mnist.test.images, y:mnist.test.labels}))\n",
        "  \n",
        "  #save model weights to disk\n",
        "  save_path = saver.save(sess, model_path)\n",
        "  print(\"model saved in file:\", save_path)"
      ],
      "execution_count": 7,
      "outputs": [
        {
          "output_type": "stream",
          "text": [
            "starting 1st session....\n",
            "epoch 1 cost 185.52472235419546\n",
            "epoch 2 cost 40.62224635644396\n",
            "epoch 3 cost 25.350549232743006\n",
            "first optimization finished\n",
            "accuracy 0.9065\n",
            "model saved in file: /tmp/model.ckpt\n"
          ],
          "name": "stdout"
        }
      ]
    },
    {
      "cell_type": "code",
      "metadata": {
        "id": "zlBtsB1TNw_T",
        "colab_type": "code",
        "colab": {
          "base_uri": "https://localhost:8080/",
          "height": 280
        },
        "outputId": "fb147424-0658-4df2-8e66-b8898a6961d0"
      },
      "source": [
        "#running new session\n",
        "print(\"starting 2nd session...\")\n",
        "with tf.Session() as sess:\n",
        "  sess.run(init)\n",
        "  \n",
        "  #restore model weights from previously saved model\n",
        "  load_path = saver.restore(sess, model_path)\n",
        "  print(\"model restroed from file\", save_path)\n",
        "  \n",
        "  #resuem training\n",
        "  for epoch in range(7):\n",
        "    avg_cost=0.0\n",
        "    total_batch=int(mnist.train.num_examples/batch_size)\n",
        "    #loop over all batches\n",
        "    for i in range(total_batch):\n",
        "      batch_x, batch_y = mnist.train.next_batch(batch_size)\n",
        "      #run optimization op and cost op\n",
        "      _, c = sess.run([optimizer, cost], feed_dict={x:batch_x, y:batch_y})\n",
        "      \n",
        "      #compute average loss\n",
        "      avg_cost += c/total_batch\n",
        "    \n",
        "    #display logs per epoch step\n",
        "    if epoch%display_step==0:\n",
        "      print(\"epoch\",epoch+1, \"cost\",avg_cost)\n",
        "      \n",
        "  print(\"second optimization finished\")\n",
        "  \n",
        "  #test model\n",
        "  correct_prediction = tf.equal(tf.argmax(pred,1), tf.argmax(y,1))\n",
        "  #calculate accuracy\n",
        "  accuracy = tf.reduce_mean(tf.cast(correct_prediction, \"float\"))\n",
        "  \n",
        "  print(\"Accuracy:\",accuracy.eval({x:mnist.test.images, y:mnist.test.labels}))"
      ],
      "execution_count": 8,
      "outputs": [
        {
          "output_type": "stream",
          "text": [
            "W0822 16:50:46.534085 139766011230080 deprecation.py:323] From /usr/local/lib/python2.7/dist-packages/tensorflow/python/training/saver.py:1276: checkpoint_exists (from tensorflow.python.training.checkpoint_management) is deprecated and will be removed in a future version.\n",
            "Instructions for updating:\n",
            "Use standard file APIs to check for files with this prefix.\n"
          ],
          "name": "stderr"
        },
        {
          "output_type": "stream",
          "text": [
            "starting 2nd session...\n",
            "model restroed from file /tmp/model.ckpt\n",
            "epoch 1 cost 17.685845511609863\n",
            "epoch 2 cost 12.991956444694233\n",
            "epoch 3 cost 9.754479980147009\n",
            "epoch 4 cost 7.305098009221114\n",
            "epoch 5 cost 5.644987883518022\n",
            "epoch 6 cost 4.250406343949144\n",
            "epoch 7 cost 3.2390454876223704\n",
            "second optimization finished\n",
            "Accuracy: 0.9324\n"
          ],
          "name": "stdout"
        }
      ]
    }
  ]
}