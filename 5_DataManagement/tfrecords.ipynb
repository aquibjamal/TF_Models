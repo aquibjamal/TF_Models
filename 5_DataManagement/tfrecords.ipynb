{
  "nbformat": 4,
  "nbformat_minor": 0,
  "metadata": {
    "colab": {
      "name": "tfrecords.ipynb",
      "version": "0.3.2",
      "provenance": [],
      "collapsed_sections": []
    },
    "kernelspec": {
      "name": "python2",
      "display_name": "Python 2"
    },
    "accelerator": "GPU"
  },
  "cells": [
    {
      "cell_type": "markdown",
      "metadata": {
        "id": "dzx1j9ZY6Few",
        "colab_type": "text"
      },
      "source": [
        "\n",
        "Create and Load TFRecords\n",
        "\n",
        "A simple TensorFlow example to parse a dataset into TFRecord format, and then read that dataset.\n",
        "\n",
        "In this example, the Titanic Dataset (in CSV format) will be used as a toy dataset, for parsing all the dataset features into TFRecord format, and then building an input pipeline that can be used for training models.\n",
        "\n",
        "\n",
        "Titanic Dataset\n",
        "\n",
        "The titanic dataset is a popular dataset for ML that provides a list of all passengers onboard the Titanic, along with various features such as their age, sex, class (1st, 2nd, 3rd)... And if the passenger survived the disaster or not.\n",
        "\n",
        "It can be used to see that even though some luck was involved in surviving the sinking, some groups of people were more likely to survive than others, such as women, children, and the upper-class...\n",
        "\n",
        "\n",
        "Variable Descriptions:\n",
        "\n",
        "survived        Survived\n",
        "                (0 = No; 1 = Yes)\n",
        "                \n",
        "pclass          Passenger Class\n",
        "                (1 = 1st; 2 = 2nd; 3 = 3rd)\n",
        "                \n",
        "name            Name\n",
        "\n",
        "sex             Sex\n",
        "\n",
        "age             Age\n",
        "\n",
        "sibsp           Number of Siblings/Spouses Aboard\n",
        "\n",
        "parch           Number of Parents/Children Aboard\n",
        "\n",
        "ticket          Ticket Number\n",
        "\n",
        "fare            Passenger Fare"
      ]
    },
    {
      "cell_type": "code",
      "metadata": {
        "id": "AcFoeutpa0-V",
        "colab_type": "code",
        "colab": {}
      },
      "source": [
        "from __future__ import absolute_import, print_function, division\n",
        "\n",
        "import csv\n",
        "import requests\n",
        "import tensorflow as tf"
      ],
      "execution_count": 0,
      "outputs": []
    },
    {
      "cell_type": "code",
      "metadata": {
        "id": "NvPR22SAa-t4",
        "colab_type": "code",
        "colab": {}
      },
      "source": [
        "#download titanic dataset (in csv format)\n",
        "d=requests.get(\"https://raw.githubusercontent.com/tflearn/tflearn.github.io/master/resources/titanic_dataset.csv\")\n",
        "with open(\"titanic_dataset.csv\",\"wb\") as f:\n",
        "  f.write(d.content)"
      ],
      "execution_count": 0,
      "outputs": []
    },
    {
      "cell_type": "markdown",
      "metadata": {
        "id": "A7j_OXvobL_h",
        "colab_type": "text"
      },
      "source": [
        "Create TFRecords"
      ]
    },
    {
      "cell_type": "code",
      "metadata": {
        "id": "8_30Wv7vbK8L",
        "colab_type": "code",
        "colab": {}
      },
      "source": [
        "#generate integer features\n",
        "def build_int64_feature(data):\n",
        "  return tf.train.Feature(int64_list=tf.train.Int64List(value=[data]))\n",
        "\n",
        "#generate float features\n",
        "def build_float_feature(data):\n",
        "  return tf.train.Feature(float_list=tf.train.FloatList(value=[data]))\n",
        "\n",
        "#generate string features\n",
        "def build_string_feature(data):\n",
        "  return tf.train.Feature(bytes_list=tf.train.BytesList(value=[data]))\n",
        "\n",
        "#generate TF example parsing all features of dataset\n",
        "def convert_to_tfexample(survived, pclass, name, sex, age, sibsp, parch, ticket, fare):\n",
        "  return tf.train.Example(\n",
        "  features=tf.train.Features(\n",
        "  feature={\n",
        "      'survived':build_int64_feature(survived),\n",
        "      'pclass':build_int64_feature(pclass),\n",
        "      'name':build_string_feature(name),\n",
        "      'sex':build_string_feature(sex),\n",
        "      'age':build_float_feature(age),\n",
        "      'sibsp':build_int64_feature(sibsp),\n",
        "      'parch':build_int64_feature(parch),\n",
        "      'ticket':build_string_feature(ticket),\n",
        "      'fare':build_float_feature(fare),\n",
        "     \n",
        "  }))"
      ],
      "execution_count": 0,
      "outputs": []
    },
    {
      "cell_type": "code",
      "metadata": {
        "id": "9XgbxnRceRs5",
        "colab_type": "code",
        "colab": {}
      },
      "source": [
        "#open dataset file\n",
        "with open(\"titanic_dataset.csv\") as f:\n",
        "  #output TFrecord file\n",
        "  with tf.io.TFRecordWriter(\"titanic_dataset.tfrecord\") as w:\n",
        "    #generate tf example for all row in our dataset\n",
        "    #csv reader will read and parse all rows\n",
        "    reader=csv.reader(f, skipinitialspace=True)\n",
        "    for i, record in enumerate(reader):\n",
        "      #skip header\n",
        "      if i==0:\n",
        "        continue\n",
        "      survived, pclass, name, sex, age, sibsp, parch, ticket, fare=record\n",
        "      #parse each csv row to tf example using above function\n",
        "      example=convert_to_tfexample(int(survived), int(pclass), name,sex, float(age), int(sibsp),\n",
        "                                  int(parch), ticket, float(fare))\n",
        "      #serialize each tf example to string, and write to TFrecord file\n",
        "      w.write(example.SerializeToString())"
      ],
      "execution_count": 0,
      "outputs": []
    },
    {
      "cell_type": "markdown",
      "metadata": {
        "id": "-5jaNTwzfDK2",
        "colab_type": "text"
      },
      "source": [
        "Load TFRecords"
      ]
    },
    {
      "cell_type": "code",
      "metadata": {
        "id": "AlVSc5-sfBrd",
        "colab_type": "code",
        "colab": {}
      },
      "source": [
        "#build features template, with types\n",
        "features={\n",
        "    'survived':tf.io.FixedLenFeature([],tf.int64),\n",
        "    'pclass':tf.io.FixedLenFeature([],tf.int64),\n",
        "    'name':tf.io.FixedLenFeature([],tf.string),\n",
        "    'sex':tf.io.FixedLenFeature([],tf.string),\n",
        "    'age':tf.io.FixedLenFeature([],tf.float32),\n",
        "    'sibsp':tf.io.FixedLenFeature([],tf.int64),\n",
        "    'parch':tf.io.FixedLenFeature([],tf.int64),\n",
        "    'ticket':tf.io.FixedLenFeature([],tf.string),\n",
        "    'fare':tf.io.FixedLenFeature([],tf.float32)\n",
        "}"
      ],
      "execution_count": 0,
      "outputs": []
    },
    {
      "cell_type": "code",
      "metadata": {
        "id": "pUrElgxKfvTG",
        "colab_type": "code",
        "colab": {}
      },
      "source": [
        "#create tensorflow session\n",
        "sess=tf.Session()\n",
        "\n",
        "#load tfrecord data\n",
        "filenames=[\"titanic_dataset.tfrecord\"]\n",
        "data=tf.data.TFRecordDataset(filenames)\n",
        "\n",
        "#parse features, using the above template\n",
        "def parse_record(record):\n",
        "  return tf.io.parse_single_example(record, features=features)\n",
        "\n",
        "#apply the parsing to each record from dataset\n",
        "data=data.map(parse_record)\n",
        "\n",
        "#refill data indefinitely\n",
        "data=data.repeat()\n",
        "\n",
        "#shuffle data\n",
        "data=data.shuffle(buffer_size=1000)\n",
        "#batch data (aggreaget records together)\n",
        "data=data.batch(batch_size=4)\n",
        "#prefetch batch (pre-load batch for faster consumption)\n",
        "data=data.prefetch(buffer_size=1)\n",
        "\n",
        "#create an iterator over dataset\n",
        "iterator=data.make_initializable_iterator()\n",
        "#initialize the iterator\n",
        "sess.run(iterator.initializer)\n",
        "\n",
        "#get next data batch\n",
        "x=iterator.get_next()"
      ],
      "execution_count": 0,
      "outputs": []
    },
    {
      "cell_type": "code",
      "metadata": {
        "id": "yU9PDh9wgo-M",
        "colab_type": "code",
        "colab": {
          "base_uri": "https://localhost:8080/",
          "height": 280
        },
        "outputId": "e33c19bf-d65a-4351-abe7-59bd686e678f"
      },
      "source": [
        "#deque data and display\n",
        "for i in range(3):\n",
        "  print(sess.run(x))\n",
        "  print(\"\")"
      ],
      "execution_count": 46,
      "outputs": [
        {
          "output_type": "stream",
          "text": [
            "{'fare': array([10.5   , 27.7208, 73.5   , 26.    ], dtype=float32), 'name': array(['Stokes, Mr. Philip Joseph',\n",
            "       'Lindstrom, Mrs. Carl Johan (Sigrid Posse)',\n",
            "       'Deacon, Mr. Percy William',\n",
            "       'Phillips, Miss. Kate Florence (\"Mrs Kate Louise Phillips Marshall\")'],\n",
            "      dtype=object), 'age': array([25., 55., 17., 19.], dtype=float32), 'parch': array([0, 0, 0, 0]), 'pclass': array([2, 1, 2, 2]), 'sex': array(['male', 'female', 'male', 'female'], dtype=object), 'survived': array([0, 1, 0, 1]), 'sibsp': array([0, 0, 0, 0]), 'ticket': array(['F.C.C. 13540', '112377', 'S.O.C. 14879', '250655'], dtype=object)}\n",
            "\n",
            "{'fare': array([51.8625,  7.8542, 27.    ,  7.925 ], dtype=float32), 'name': array(['McCarthy, Mr. Timothy J', 'Braf, Miss. Elin Ester Maria',\n",
            "       'Jacobsohn, Mrs. Sidney Samuel (Amy Frances Christy)',\n",
            "       'Ilmakangas, Miss. Ida Livija'], dtype=object), 'age': array([54., 20., 24., 27.], dtype=float32), 'parch': array([0, 0, 1, 0]), 'pclass': array([1, 3, 2, 3]), 'sex': array(['male', 'female', 'female', 'female'], dtype=object), 'survived': array([0, 0, 1, 0]), 'sibsp': array([0, 0, 2, 1]), 'ticket': array(['17463', '347471', '243847', 'STON/O2. 3101270'], dtype=object)}\n",
            "\n",
            "{'fare': array([ 7.2292, 20.525 , 13.    , 27.7208], dtype=float32), 'name': array(['Abrahim, Mrs. Joseph (Sophie Halaut Easu)',\n",
            "       'Goldsmith, Mrs. Frank John (Emily Alice Brown)',\n",
            "       'Fox, Mr. Stanley Hubert', 'Stewart, Mr. Albert A'], dtype=object), 'age': array([18., 31., 36.,  0.], dtype=float32), 'parch': array([0, 1, 0, 0]), 'pclass': array([3, 3, 2, 1]), 'sex': array(['female', 'female', 'male', 'male'], dtype=object), 'survived': array([1, 1, 0, 0]), 'sibsp': array([0, 1, 0, 0]), 'ticket': array(['2657', '363291', '229236', 'PC 17605'], dtype=object)}\n",
            "\n"
          ],
          "name": "stdout"
        }
      ]
    }
  ]
}