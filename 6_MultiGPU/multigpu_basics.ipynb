{
  "nbformat": 4,
  "nbformat_minor": 0,
  "metadata": {
    "colab": {
      "name": "multigpu_basics.ipynb",
      "version": "0.3.2",
      "provenance": [],
      "collapsed_sections": []
    },
    "kernelspec": {
      "name": "python2",
      "display_name": "Python 2"
    },
    "accelerator": "GPU"
  },
  "cells": [
    {
      "cell_type": "markdown",
      "metadata": {
        "id": "VOk7QCQv0sqb",
        "colab_type": "text"
      },
      "source": [
        "\n",
        "**Multi-GPU Basics.**\n",
        "\n",
        "Basic Multi-GPU computation example using TensorFlow library.\n"
      ]
    },
    {
      "cell_type": "code",
      "metadata": {
        "id": "TmdJixKB0zhm",
        "colab_type": "code",
        "colab": {}
      },
      "source": [
        "import numpy as np\n",
        "import tensorflow as tf\n",
        "import datetime"
      ],
      "execution_count": 0,
      "outputs": []
    },
    {
      "cell_type": "code",
      "metadata": {
        "id": "jwWZEe2e72UY",
        "colab_type": "code",
        "colab": {}
      },
      "source": [
        "#processing unit logs\n",
        "log_device_placement=True\n",
        "\n",
        "#num of multiplications to perform\n",
        "n=10"
      ],
      "execution_count": 0,
      "outputs": []
    },
    {
      "cell_type": "code",
      "metadata": {
        "id": "GRqrIqBV7_0R",
        "colab_type": "code",
        "colab": {}
      },
      "source": [
        "#example : compute A^n+B^n on 2 GPUs\n",
        "\n",
        "#create random large matrix\n",
        "A = np.random.rand(int(1e4), int(1e4)).astype('float32')\n",
        "B = np.random.rand(int(1e4), int(1e4)).astype('float32')\n",
        "\n",
        "#create graph to store results\n",
        "c1=[]\n",
        "c2=[]\n",
        "\n",
        "#define matrix power\n",
        "def matpow(M,n):\n",
        "  if n<1: #abstract cases where n<1\n",
        "    return M\n",
        "  else:\n",
        "    return tf.matmul(M,matpow(M,n-1))"
      ],
      "execution_count": 0,
      "outputs": []
    },
    {
      "cell_type": "code",
      "metadata": {
        "id": "PGLBqB-M-W0G",
        "colab_type": "code",
        "colab": {}
      },
      "source": [
        "-# single GPU computing\n",
        "with tf.device('/gpu:0'):\n",
        "  a=tf.constant(A)\n",
        "  b=tf.constant(B)\n",
        "  \n",
        "  #compute A^n+B^n and store it in c1\n",
        "  c1.append(matpow(a,n))\n",
        "  c1.append(matpow(b,n))\n",
        "  \n",
        "with tf.device('/cpu:0'):\n",
        "  sum=tf.add_n(c1) #addition of all elements in c1, i.e. A^n+B^n\n",
        "  \n",
        "t1_1=datetime.datetime.now()\n",
        "\n",
        "with tf.Session(config=tf.ConfigProto(log_device_placement=log_device_placement)) as sess:\n",
        "  #runs the op\n",
        "  sess.run(sum)\n",
        "\n",
        "t2_1=datetime.datetime.now()               \n",
        "                "
      ],
      "execution_count": 0,
      "outputs": []
    },
    {
      "cell_type": "code",
      "metadata": {
        "id": "R0xzImf-ADUV",
        "colab_type": "code",
        "colab": {}
      },
      "source": [
        "#multiple gpu computing\n",
        "# gpu:0 computes A^n\n",
        "with tf.device('/gpu:0'):\n",
        "  #compute A^n and store result in c2\n",
        "  a=tf.constant(A)\n",
        "  c2.append(matpow(a,n))\n",
        "  \n",
        "#gpu:1 computes B^n\n",
        "with tf.device('/gpu:1'):\n",
        "  #compute B^n and store result in c2\n",
        "  b=tf.constant(B)\n",
        "  c2.append(matpow(b,n))\n",
        "  \n",
        "with tf.device('/cpu:0'):\n",
        "  sum=tf.add_n(c2) # addition of all elements in c2, i.e. A^n+B^n\n",
        "  \n",
        "t1_2=datetime.datetime.now()\n",
        "\n",
        "with tf.Session(config=tf.ConfigProto(log_device_placement=log_device_placement)) as sess:\n",
        "  # runs the op\n",
        "  sess.run(sum)\n",
        "  \n",
        "t2_2=datetime.datetime.now()  \n"
      ],
      "execution_count": 0,
      "outputs": []
    },
    {
      "cell_type": "code",
      "metadata": {
        "id": "TJ92IRfrBF8O",
        "colab_type": "code",
        "colab": {}
      },
      "source": [
        "print(\"Single GPU computation time \"+str(t2_1-t1_1))\n",
        "print(\"Multiple GPU computation time \"+str(t2_2-t1_2))"
      ],
      "execution_count": 0,
      "outputs": []
    }
  ]
}