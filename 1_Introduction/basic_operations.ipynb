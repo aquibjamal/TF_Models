{
  "nbformat": 4,
  "nbformat_minor": 0,
  "metadata": {
    "colab": {
      "name": "basic_operations.ipynb",
      "version": "0.3.2",
      "provenance": [],
      "collapsed_sections": []
    },
    "kernelspec": {
      "name": "python3",
      "display_name": "Python 3"
    }
  },
  "cells": [
    {
      "cell_type": "code",
      "metadata": {
        "id": "gslixppmBJ7v",
        "colab_type": "code",
        "colab": {}
      },
      "source": [
        "import tensorflow as tf"
      ],
      "execution_count": 0,
      "outputs": []
    },
    {
      "cell_type": "code",
      "metadata": {
        "id": "6jfzjqG3F33v",
        "colab_type": "code",
        "colab": {}
      },
      "source": [
        "#basic constant operations\n",
        "a=tf.constant(2)\n",
        "b=tf.constant(3)"
      ],
      "execution_count": 0,
      "outputs": []
    },
    {
      "cell_type": "code",
      "metadata": {
        "id": "sBRbYWsdF_NH",
        "colab_type": "code",
        "colab": {
          "base_uri": "https://localhost:8080/",
          "height": 70
        },
        "outputId": "9957ea35-64f5-43ef-fa28-28dc6db157d0"
      },
      "source": [
        "#launch default graph\n",
        "with tf.Session() as sess:\n",
        "  print(\"a:%i\"%sess.run(a), \"b:%i\"%sess.run(b))\n",
        "  print(\"Additiion with constants %i\"%sess.run(a+b))\n",
        "  print(\"Multiplication with constants: %i\"%sess.run(a*b))"
      ],
      "execution_count": 12,
      "outputs": [
        {
          "output_type": "stream",
          "text": [
            "a:2 b:3\n",
            "Additiion with constants 5\n",
            "Multiplication with constants: 6\n"
          ],
          "name": "stdout"
        }
      ]
    },
    {
      "cell_type": "code",
      "metadata": {
        "id": "kXrcW7CJGfzL",
        "colab_type": "code",
        "colab": {}
      },
      "source": [
        "# basic operations with variable as graph input\n",
        "# Value returned by constructor represents output of Variable op (defined as input when running session)\n",
        "# tf.Graph input\n",
        "a = tf.placeholder(tf.int16)\n",
        "b = tf.placeholder(tf.int16)"
      ],
      "execution_count": 0,
      "outputs": []
    },
    {
      "cell_type": "code",
      "metadata": {
        "id": "mm23l4gRG1H5",
        "colab_type": "code",
        "colab": {}
      },
      "source": [
        "# define some operations\n",
        "add = tf.add(a,b)\n",
        "mul = tf.multiply(a,b)"
      ],
      "execution_count": 0,
      "outputs": []
    },
    {
      "cell_type": "code",
      "metadata": {
        "id": "g7v0yiZsG8gU",
        "colab_type": "code",
        "colab": {
          "base_uri": "https://localhost:8080/",
          "height": 52
        },
        "outputId": "4e507272-0764-4478-f2c0-17e13b46b5fa"
      },
      "source": [
        "# launch the default graph\n",
        "with tf.Session() as sess:\n",
        "  # run every operation with variable input\n",
        "  print(\"Addition with variables:%i\"%sess.run(add, feed_dict={a:2, b:3}))\n",
        "  print(\"Multiplication with variables:%i\"%sess.run(mul, feed_dict={a:2,b:3}))"
      ],
      "execution_count": 15,
      "outputs": [
        {
          "output_type": "stream",
          "text": [
            "Addition with variables:5\n",
            "Multiplication with variables:6\n"
          ],
          "name": "stdout"
        }
      ]
    },
    {
      "cell_type": "code",
      "metadata": {
        "id": "v9ujzSvEHYXj",
        "colab_type": "code",
        "colab": {}
      },
      "source": [
        "# matrix multiplication\n",
        "# constant 1x2 matrix\n",
        "matrix1=tf.constant([[3., 3.]])"
      ],
      "execution_count": 0,
      "outputs": []
    },
    {
      "cell_type": "code",
      "metadata": {
        "id": "wPhrl16dHnx0",
        "colab_type": "code",
        "colab": {}
      },
      "source": [
        "# another constant matrix of order 2x1\n",
        "matrix2=tf.constant([[2.],[2.]])"
      ],
      "execution_count": 0,
      "outputs": []
    },
    {
      "cell_type": "code",
      "metadata": {
        "id": "apR8tTV-H1qc",
        "colab_type": "code",
        "colab": {}
      },
      "source": [
        "# create matmul operation\n",
        "product=tf.matmul(matrix1, matrix2)"
      ],
      "execution_count": 0,
      "outputs": []
    },
    {
      "cell_type": "code",
      "metadata": {
        "id": "P4dbNm4pIdP6",
        "colab_type": "code",
        "colab": {
          "base_uri": "https://localhost:8080/",
          "height": 35
        },
        "outputId": "95208f86-9f70-4cb0-efa8-b265e2c7e160"
      },
      "source": [
        "# run matmul op in session()\n",
        "# run(product) causes execution of 3 ops in graph : two constants and one matmul\n",
        "with tf.Session() as sess:\n",
        "  result=sess.run(product)\n",
        "  print(result)"
      ],
      "execution_count": 25,
      "outputs": [
        {
          "output_type": "stream",
          "text": [
            "[[12.]]\n"
          ],
          "name": "stdout"
        }
      ]
    }
  ]
}