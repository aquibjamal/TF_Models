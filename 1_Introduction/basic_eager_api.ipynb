{
  "nbformat": 4,
  "nbformat_minor": 0,
  "metadata": {
    "colab": {
      "name": "basic_eager_api.ipynb",
      "version": "0.3.2",
      "provenance": [],
      "collapsed_sections": []
    },
    "kernelspec": {
      "name": "python2",
      "display_name": "Python 2"
    }
  },
  "cells": [
    {
      "cell_type": "code",
      "metadata": {
        "id": "jBaKp9x0JbDr",
        "colab_type": "code",
        "colab": {}
      },
      "source": [
        "from __future__ import print_function, absolute_import, division\n",
        "import numpy as np\n",
        "import tensorflow as tf"
      ],
      "execution_count": 0,
      "outputs": []
    },
    {
      "cell_type": "code",
      "metadata": {
        "id": "Hmn7QHqgJeb_",
        "colab_type": "code",
        "colab": {
          "base_uri": "https://localhost:8080/",
          "height": 194
        },
        "outputId": "b592fd49-f8a3-4c1a-cb1a-3040c093630b"
      },
      "source": [
        "# set eager API\n",
        "print(\"Setting eager API\")\n",
        "tf.enable_eager_execution()\n",
        "tfe=tf.contrib.eager"
      ],
      "execution_count": 2,
      "outputs": [
        {
          "output_type": "stream",
          "text": [
            "Setting eager API\n"
          ],
          "name": "stdout"
        },
        {
          "output_type": "stream",
          "text": [
            "WARNING: Logging before flag parsing goes to stderr.\n",
            "W0810 10:49:42.212704 140334703540096 lazy_loader.py:50] \n",
            "The TensorFlow contrib module will not be included in TensorFlow 2.0.\n",
            "For more information, please see:\n",
            "  * https://github.com/tensorflow/community/blob/master/rfcs/20180907-contrib-sunset.md\n",
            "  * https://github.com/tensorflow/addons\n",
            "  * https://github.com/tensorflow/io (for I/O related ops)\n",
            "If you depend on functionality not listed there, please file an issue.\n",
            "\n"
          ],
          "name": "stderr"
        }
      ]
    },
    {
      "cell_type": "code",
      "metadata": {
        "id": "yGq8eIWtJn7t",
        "colab_type": "code",
        "colab": {
          "base_uri": "https://localhost:8080/",
          "height": 70
        },
        "outputId": "1f8b4032-671e-4b29-cd2c-e3726cdcf59c"
      },
      "source": [
        "# define constant tensors\n",
        "print(\"Define constant tensors\")\n",
        "a=tf.constant(2)\n",
        "print(\"a=%i\"%a)\n",
        "b=tf.constant(3)\n",
        "print(\"b=%i\"%b)\n"
      ],
      "execution_count": 3,
      "outputs": [
        {
          "output_type": "stream",
          "text": [
            "Define constant tensors\n",
            "a=2\n",
            "b=3\n"
          ],
          "name": "stdout"
        }
      ]
    },
    {
      "cell_type": "code",
      "metadata": {
        "id": "g54caWiwJ39_",
        "colab_type": "code",
        "colab": {
          "base_uri": "https://localhost:8080/",
          "height": 70
        },
        "outputId": "69361273-5e9b-4b69-b627-ceef748faa58"
      },
      "source": [
        "#run operations without tf.Session()\n",
        "print(\"Running operations without tf.Session\")\n",
        "c=a+b\n",
        "d=a*b\n",
        "print(\"a+b:%i\"%c)\n",
        "print(\"a*b:%i\"%d)"
      ],
      "execution_count": 5,
      "outputs": [
        {
          "output_type": "stream",
          "text": [
            "Running operations without tf.Session\n",
            "a+b:5\n",
            "a*b:6\n"
          ],
          "name": "stdout"
        }
      ]
    },
    {
      "cell_type": "code",
      "metadata": {
        "id": "ljWo-xTWKlgj",
        "colab_type": "code",
        "colab": {
          "base_uri": "https://localhost:8080/",
          "height": 159
        },
        "outputId": "3b6a1927-abc3-4c37-c451-b2fd37f730b3"
      },
      "source": [
        "# compatibility with Numpy\n",
        "print(\"Mixing operations with TEnsors and Numpy\")\n",
        "a=tf.constant([[2.0,1.0],\n",
        "              [1.0, 0.]],dtype=tf.float32)\n",
        "print(\"tensor :\\n a=%s\"%a)\n",
        "b=np.array([[3.0,0.],\n",
        "           [5.,1.]],dtype=np.float32)\n",
        "print(\"numpy array:\\n b=%s\"%b)"
      ],
      "execution_count": 7,
      "outputs": [
        {
          "output_type": "stream",
          "text": [
            "Mixing operations with TEnsors and Numpy\n",
            "tensor :\n",
            " a=tf.Tensor(\n",
            "[[2. 1.]\n",
            " [1. 0.]], shape=(2, 2), dtype=float32)\n",
            "numpy array:\n",
            " b=[[3. 0.]\n",
            " [5. 1.]]\n"
          ],
          "name": "stdout"
        }
      ]
    },
    {
      "cell_type": "code",
      "metadata": {
        "id": "aVFvCJ6XLS-B",
        "colab_type": "code",
        "colab": {
          "base_uri": "https://localhost:8080/",
          "height": 141
        },
        "outputId": "29d30e79-c123-4265-b744-acec8f1bb78c"
      },
      "source": [
        "print(\"running operations without tf.Session()\")\n",
        "c=a+b\n",
        "d=tf.matmul(a,b)\n",
        "print(\"a+b:%s\"%c)\n",
        "print(\"a*b:%s\"%d)"
      ],
      "execution_count": 9,
      "outputs": [
        {
          "output_type": "stream",
          "text": [
            "running operations without tf.Session()\n",
            "a+b:tf.Tensor(\n",
            "[[5. 1.]\n",
            " [6. 1.]], shape=(2, 2), dtype=float32)\n",
            "a*b:tf.Tensor(\n",
            "[[11.  1.]\n",
            " [ 3.  0.]], shape=(2, 2), dtype=float32)\n"
          ],
          "name": "stdout"
        }
      ]
    },
    {
      "cell_type": "code",
      "metadata": {
        "id": "kWJL2ayXLpOY",
        "colab_type": "code",
        "colab": {
          "base_uri": "https://localhost:8080/",
          "height": 106
        },
        "outputId": "f09429e5-9f37-4cf3-ba7e-765880977870"
      },
      "source": [
        "print(\"Iterate through tensor 'a'\")\n",
        "for i in range(a.shape[0]):\n",
        "  for j in range(a.shape[1]):\n",
        "    print(a[i][j])"
      ],
      "execution_count": 11,
      "outputs": [
        {
          "output_type": "stream",
          "text": [
            "Iterate through tensor 'a'\n",
            "tf.Tensor(2.0, shape=(), dtype=float32)\n",
            "tf.Tensor(1.0, shape=(), dtype=float32)\n",
            "tf.Tensor(1.0, shape=(), dtype=float32)\n",
            "tf.Tensor(0.0, shape=(), dtype=float32)\n"
          ],
          "name": "stdout"
        }
      ]
    }
  ]
}