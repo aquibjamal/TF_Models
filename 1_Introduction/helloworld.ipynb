{
  "nbformat": 4,
  "nbformat_minor": 0,
  "metadata": {
    "colab": {
      "name": "helloworld.ipynb",
      "version": "0.3.2",
      "provenance": [],
      "collapsed_sections": []
    },
    "kernelspec": {
      "name": "python3",
      "display_name": "Python 3"
    }
  },
  "cells": [
    {
      "cell_type": "code",
      "metadata": {
        "id": "gslixppmBJ7v",
        "colab_type": "code",
        "colab": {}
      },
      "source": [
        "import tensorflow as tf"
      ],
      "execution_count": 0,
      "outputs": []
    },
    {
      "cell_type": "code",
      "metadata": {
        "id": "57omKdMCBlXp",
        "colab_type": "code",
        "colab": {}
      },
      "source": [
        "# Simple Hello world using tensorflow\n",
        "hello = tf.constant('Hello, Tensorflow!')"
      ],
      "execution_count": 0,
      "outputs": []
    },
    {
      "cell_type": "code",
      "metadata": {
        "id": "7fboVJ0LCGyT",
        "colab_type": "code",
        "colab": {
          "base_uri": "https://localhost:8080/",
          "height": 35
        },
        "outputId": "6c027a67-22a7-41ba-c302-1bb66e8bdf71"
      },
      "source": [
        "with tf.Session() as sess:\n",
        "  print(sess.run(hello))"
      ],
      "execution_count": 8,
      "outputs": [
        {
          "output_type": "stream",
          "text": [
            "b'Hello, Tensorflow!'\n"
          ],
          "name": "stdout"
        }
      ]
    },
    {
      "cell_type": "code",
      "metadata": {
        "id": "13Um96FIFcb_",
        "colab_type": "code",
        "colab": {
          "base_uri": "https://localhost:8080/",
          "height": 35
        },
        "outputId": "48414470-e3cb-4230-f40d-06fae3fa4894"
      },
      "source": [
        "# another way of creating session\n",
        "sess=tf.Session()\n",
        "print(\"second way of using session\",sess.run(hello))\n",
        "sess.close()"
      ],
      "execution_count": 10,
      "outputs": [
        {
          "output_type": "stream",
          "text": [
            "second way of using session b'Hello, Tensorflow!'\n"
          ],
          "name": "stdout"
        }
      ]
    }
  ]
}