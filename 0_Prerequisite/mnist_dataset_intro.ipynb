{
  "nbformat": 4,
  "nbformat_minor": 0,
  "metadata": {
    "colab": {
      "name": "mnist_dataset_intro.ipynb",
      "version": "0.3.2",
      "provenance": [],
      "collapsed_sections": []
    },
    "kernelspec": {
      "name": "python3",
      "display_name": "Python 3"
    }
  },
  "cells": [
    {
      "cell_type": "code",
      "metadata": {
        "id": "gslixppmBJ7v",
        "colab_type": "code",
        "colab": {}
      },
      "source": [
        "import tensorflow as tf"
      ],
      "execution_count": 0,
      "outputs": []
    },
    {
      "cell_type": "code",
      "metadata": {
        "id": "57omKdMCBlXp",
        "colab_type": "code",
        "colab": {}
      },
      "source": [
        "#Import MNIST datasets\n",
        "from tensorflow.examples.tutorials.mnist import input_data\n",
        "mnist= input_data.read_data_sets(\"/tmp/data\",one_hot=True)"
      ],
      "execution_count": 0,
      "outputs": []
    },
    {
      "cell_type": "code",
      "metadata": {
        "id": "7fboVJ0LCGyT",
        "colab_type": "code",
        "colab": {}
      },
      "source": [
        "# Load data\n",
        "X_train = mnist.train.images\n",
        "Y_train = mnist.train.labels\n",
        "X_test = mnist.test.images\n",
        "Y_test = mnist.test.labels"
      ],
      "execution_count": 0,
      "outputs": []
    },
    {
      "cell_type": "code",
      "metadata": {
        "id": "3qzB638xC3fC",
        "colab_type": "code",
        "colab": {}
      },
      "source": [
        "batch_X, batch_Y = mnist.train.next_batch(64)"
      ],
      "execution_count": 0,
      "outputs": []
    }
  ]
}