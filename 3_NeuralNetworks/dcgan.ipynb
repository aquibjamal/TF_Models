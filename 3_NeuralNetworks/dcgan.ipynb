{
  "nbformat": 4,
  "nbformat_minor": 0,
  "metadata": {
    "colab": {
      "name": "dcgan.ipynb",
      "version": "0.3.2",
      "provenance": [],
      "collapsed_sections": []
    },
    "kernelspec": {
      "name": "python2",
      "display_name": "Python 2"
    },
    "accelerator": "GPU"
  },
  "cells": [
    {
      "cell_type": "markdown",
      "metadata": {
        "id": "dzx1j9ZY6Few",
        "colab_type": "text"
      },
      "source": [
        "Build a deep convolutional generative adversarial network (DCGAN) to generate digit images from a noise distribution with TensorFlow.\n",
        "\n",
        "References:\n",
        "*   Unsupervised representation learning with deep convolutional generative adversarial networks. A Radford, L Metz, S Chintala, 2016.\n",
        "*   Understanding the difficulty of training deep feedforward neural networks. X Glorot, Y Bengio. Aistats 9, 249-256\n",
        "*  Batch Normalization: Accelerating Deep Network Training by Reducing Internal Covariate Shift. Sergey Ioffe, Christian Szegedy. 2015.\n",
        "\n",
        "\n",
        "\n",
        "\n",
        "    \n",
        "    \n"
      ]
    },
    {
      "cell_type": "code",
      "metadata": {
        "id": "dPjO2T2r6Rv4",
        "colab_type": "code",
        "outputId": "2516c288-d35b-4ce4-b511-f847d971bfea",
        "colab": {
          "base_uri": "https://localhost:8080/",
          "height": 558
        }
      },
      "source": [
        "from __future__ import print_function, division, absolute_import\n",
        "\n",
        "from tensorflow.examples.tutorials.mnist import input_data\n",
        "mnist = input_data.read_data_sets(\"/tmp/data\", one_hot=True)"
      ],
      "execution_count": 0,
      "outputs": [
        {
          "output_type": "stream",
          "text": [
            "WARNING: Logging before flag parsing goes to stderr.\n",
            "W0819 12:47:54.954953 140044230870912 deprecation.py:323] From <ipython-input-1-d4a83bce5ffe>:4: read_data_sets (from tensorflow.contrib.learn.python.learn.datasets.mnist) is deprecated and will be removed in a future version.\n",
            "Instructions for updating:\n",
            "Please use alternatives such as official/mnist/dataset.py from tensorflow/models.\n",
            "W0819 12:47:54.956944 140044230870912 deprecation.py:323] From /usr/local/lib/python2.7/dist-packages/tensorflow/contrib/learn/python/learn/datasets/mnist.py:260: maybe_download (from tensorflow.contrib.learn.python.learn.datasets.base) is deprecated and will be removed in a future version.\n",
            "Instructions for updating:\n",
            "Please write your own downloading logic.\n",
            "W0819 12:47:54.961602 140044230870912 deprecation.py:323] From /usr/local/lib/python2.7/dist-packages/tensorflow/contrib/learn/python/learn/datasets/base.py:252: wrapped_fn (from tensorflow.contrib.learn.python.learn.datasets.base) is deprecated and will be removed in a future version.\n",
            "Instructions for updating:\n",
            "Please use urllib or similar directly.\n",
            "W0819 12:47:55.071610 140044230870912 deprecation.py:323] From /usr/local/lib/python2.7/dist-packages/tensorflow/contrib/learn/python/learn/datasets/mnist.py:262: extract_images (from tensorflow.contrib.learn.python.learn.datasets.mnist) is deprecated and will be removed in a future version.\n",
            "Instructions for updating:\n",
            "Please use tf.data to implement this functionality.\n"
          ],
          "name": "stderr"
        },
        {
          "output_type": "stream",
          "text": [
            "Successfully downloaded train-images-idx3-ubyte.gz 9912422 bytes.\n",
            "Extracting /tmp/data/train-images-idx3-ubyte.gz\n"
          ],
          "name": "stdout"
        },
        {
          "output_type": "stream",
          "text": [
            "W0819 12:47:55.418396 140044230870912 deprecation.py:323] From /usr/local/lib/python2.7/dist-packages/tensorflow/contrib/learn/python/learn/datasets/mnist.py:267: extract_labels (from tensorflow.contrib.learn.python.learn.datasets.mnist) is deprecated and will be removed in a future version.\n",
            "Instructions for updating:\n",
            "Please use tf.data to implement this functionality.\n",
            "W0819 12:47:55.424076 140044230870912 deprecation.py:323] From /usr/local/lib/python2.7/dist-packages/tensorflow/contrib/learn/python/learn/datasets/mnist.py:110: dense_to_one_hot (from tensorflow.contrib.learn.python.learn.datasets.mnist) is deprecated and will be removed in a future version.\n",
            "Instructions for updating:\n",
            "Please use tf.one_hot on tensors.\n",
            "W0819 12:47:55.529794 140044230870912 deprecation.py:323] From /usr/local/lib/python2.7/dist-packages/tensorflow/contrib/learn/python/learn/datasets/mnist.py:290: __init__ (from tensorflow.contrib.learn.python.learn.datasets.mnist) is deprecated and will be removed in a future version.\n",
            "Instructions for updating:\n",
            "Please use alternatives such as official/mnist/dataset.py from tensorflow/models.\n"
          ],
          "name": "stderr"
        },
        {
          "output_type": "stream",
          "text": [
            "Successfully downloaded train-labels-idx1-ubyte.gz 28881 bytes.\n",
            "Extracting /tmp/data/train-labels-idx1-ubyte.gz\n",
            "Successfully downloaded t10k-images-idx3-ubyte.gz 1648877 bytes.\n",
            "Extracting /tmp/data/t10k-images-idx3-ubyte.gz\n",
            "Successfully downloaded t10k-labels-idx1-ubyte.gz 4542 bytes.\n",
            "Extracting /tmp/data/t10k-labels-idx1-ubyte.gz\n"
          ],
          "name": "stdout"
        }
      ]
    },
    {
      "cell_type": "code",
      "metadata": {
        "id": "ffZgrgUi7aeT",
        "colab_type": "code",
        "colab": {}
      },
      "source": [
        "import tensorflow as tf\n",
        "import numpy as np\n",
        "import matplotlib.pyplot as plt"
      ],
      "execution_count": 0,
      "outputs": []
    },
    {
      "cell_type": "code",
      "metadata": {
        "id": "AHSjzQum6xlI",
        "colab_type": "code",
        "colab": {}
      },
      "source": [
        "# Training hyper-parameters\n",
        "num_steps = 10000\n",
        "batch_size = 128\n",
        "lr_generator = 0.002\n",
        "lr_discriminatr = 0.002\n",
        "\n",
        "# Network hyper-parameters\n",
        "image_dim = 784\n",
        "noise_dim = 100"
      ],
      "execution_count": 0,
      "outputs": []
    },
    {
      "cell_type": "code",
      "metadata": {
        "id": "irVrokRF7AOq",
        "colab_type": "code",
        "colab": {}
      },
      "source": [
        "# Build Network\n",
        "# Network Inputs\n",
        "noise_input = tf.placeholder(tf.float32, shape=[None, noise_dim])\n",
        "real_image_input = tf.placeholder(tf.float32, shape = [None, 28,28,1])\n",
        "\n",
        "#boolean to indicate batch normalization if it is training or inference time\n",
        "is_training = tf.placeholder(tf.bool)\n",
        "\n",
        "#Leaky relu activation\n",
        "def leakyrelu(x, alpha = 0.2):\n",
        "  return 0.5*(1+alpha)*x + 0.5*(1-alpha)*abs(x)"
      ],
      "execution_count": 0,
      "outputs": []
    },
    {
      "cell_type": "code",
      "metadata": {
        "id": "VuILiAgM7kYh",
        "colab_type": "code",
        "colab": {}
      },
      "source": [
        "# Generator network\n",
        "# input noise, output image\n",
        "# note batch normalization has different behaviour at training and inference time\n",
        "# we then use a placeholder to indicate layer if we are training or not\n",
        "def generator(x, reuse=False):\n",
        "  with tf.variable_scope('Generator', reuse=reuse):\n",
        "    #tensorflow layers automatically create variables and calculate their\n",
        "    #shape, based on input\n",
        "    x = tf.layers.dense(x, units= 7*7*128)\n",
        "    x = tf.layers.batch_normalization(x, training=is_training)\n",
        "    x = tf.nn.relu(x)\n",
        "    \n",
        "    # reshape to a 4-D array of images: (batch, height, width, channels)\n",
        "    # new shape : (batch, 7, 7, 128)\n",
        "    x = tf.reshape(x, shape=[-1, 7,7,128])\n",
        "    \n",
        "    # deconvolution, image shape : (batch, 14, 14, 64)\n",
        "    x = tf.layers.conv2d_transpose(x, 64, 5, strides=2, padding='same')\n",
        "    x = tf.layers.batch_normalization(x, training = is_training)\n",
        "    x = tf.nn.relu(x)\n",
        "    \n",
        "    # deconvolution, image shape : (batch, 28, 28, 1)\n",
        "    x = tf.layers.conv2d_transpose(x, 1, 5, strides=2, padding='same')\n",
        "    # apply tanh for better stability - clip values to [-1, 1]\n",
        "    x = tf.nn.tanh(x)\n",
        "    \n",
        "    return x"
      ],
      "execution_count": 0,
      "outputs": []
    },
    {
      "cell_type": "code",
      "metadata": {
        "id": "qLmrmSaT9geS",
        "colab_type": "code",
        "colab": {}
      },
      "source": [
        "# Discriminator Network\n",
        "# Input : Image, Output : Prediction Real/Fake Image\n",
        "def discriminator(x, reuse=False):\n",
        "  with tf.variable_scope('Discriminator', reuse=reuse):\n",
        "    # Typical convolutional neural network to classify images\n",
        "    x=tf.layers.conv2d(x, 64, 5, strides=2, padding='same')\n",
        "    x=tf.layers.batch_normalization(x, training=is_training)\n",
        "    x=leakyrelu(x)\n",
        "    x=tf.layers.conv2d(x,128, 5, strides=2, padding='same')\n",
        "    x=tf.layers.batch_normalization(x, training=is_training)\n",
        "    x=leakyrelu(x)\n",
        "    #Flatten\n",
        "    x=tf.reshape(x, shape=[-1, 7*7*128])\n",
        "    x=tf.layers.dense(x,1024)\n",
        "    x=tf.layers.batch_normalization(x, training=is_training)\n",
        "    x=leakyrelu(x)\n",
        "    #output 2 classes : real and fake images\n",
        "    x=tf.layers.dense(x,2)\n",
        "    return x"
      ],
      "execution_count": 0,
      "outputs": []
    },
    {
      "cell_type": "code",
      "metadata": {
        "id": "0zx2QjavhA6V",
        "colab_type": "code",
        "outputId": "d2e253af-6d37-4b33-fe56-d3ed92aa2468",
        "colab": {
          "base_uri": "https://localhost:8080/",
          "height": 298
        }
      },
      "source": [
        "# build generator network\n",
        "gen_sample = generator(noise_input)\n",
        "\n",
        "#build 2 discriminator network (one from noise input, one from generated samples)\n",
        "disc_real = discriminator(real_image_input)\n",
        "disc_fake = discriminator(gen_sample, reuse=True)\n",
        "\n",
        "#build the stacked generator/discriminator\n",
        "stacked_gan = discriminator(gen_sample, reuse=True)"
      ],
      "execution_count": 0,
      "outputs": [
        {
          "output_type": "stream",
          "text": [
            "W0819 15:37:17.716325 140044230870912 deprecation.py:323] From <ipython-input-7-b63c2d5dd963>:5: dense (from tensorflow.python.layers.core) is deprecated and will be removed in a future version.\n",
            "Instructions for updating:\n",
            "Use keras.layers.dense instead.\n",
            "W0819 15:37:17.724087 140044230870912 deprecation.py:506] From /usr/local/lib/python2.7/dist-packages/tensorflow/python/ops/init_ops.py:1251: calling __init__ (from tensorflow.python.ops.init_ops) with dtype is deprecated and will be removed in a future version.\n",
            "Instructions for updating:\n",
            "Call initializer instance with the dtype argument instead of passing it to the constructor\n",
            "W0819 15:37:18.055510 140044230870912 deprecation.py:323] From <ipython-input-7-b63c2d5dd963>:6: batch_normalization (from tensorflow.python.layers.normalization) is deprecated and will be removed in a future version.\n",
            "Instructions for updating:\n",
            "Use keras.layers.BatchNormalization instead.  In particular, `tf.control_dependencies(tf.GraphKeys.UPDATE_OPS)` should not be used (consult the `tf.keras.layers.batch_normalization` documentation).\n",
            "W0819 15:37:18.201482 140044230870912 deprecation.py:323] From <ipython-input-7-b63c2d5dd963>:14: conv2d_transpose (from tensorflow.python.layers.convolutional) is deprecated and will be removed in a future version.\n",
            "Instructions for updating:\n",
            "Use `tf.keras.layers.Conv2DTranspose` instead.\n",
            "W0819 15:37:18.918426 140044230870912 deprecation.py:323] From <ipython-input-8-241508654f1f>:4: conv2d (from tensorflow.python.layers.convolutional) is deprecated and will be removed in a future version.\n",
            "Instructions for updating:\n",
            "Use `tf.keras.layers.Conv2D` instead.\n"
          ],
          "name": "stderr"
        }
      ]
    },
    {
      "cell_type": "code",
      "metadata": {
        "id": "_yvmiWadhhxT",
        "colab_type": "code",
        "colab": {}
      },
      "source": [
        "#build loss (labels for real images :1, for fake images:0)\n",
        "# discriminator loss for real and fake samples\n",
        "disc_loss_real=tf.reduce_mean(tf.nn.sparse_softmax_cross_entropy_with_logits(\n",
        "    logits=disc_real, labels=tf.ones([batch_size], dtype=tf.int32)))\n",
        "disc_loss_fake=tf.reduce_mean(tf.nn.sparse_softmax_cross_entropy_with_logits(\n",
        "logits=disc_fake, labels=tf.zeros([batch_size], dtype=tf.int32)))\n",
        "\n",
        "# sum both losses\n",
        "disc_loss = disc_loss_real + disc_loss_fake\n",
        "\n",
        "# generator loss (generator tries to fool the discriminator, thus labels are 1)\n",
        "gen_loss = tf.reduce_mean(tf.nn.sparse_softmax_cross_entropy_with_logits(\n",
        "logits=stacked_gan, labels=tf.ones([batch_size], dtype=tf.int32)))\n",
        "\n",
        "# build optimizers\n",
        "optimizer_gen=tf.train.AdamOptimizer(learning_rate=lr_generator, beta1=0.5, beta2=0.999)\n",
        "optimizer_disc=tf.train.AdamOptimizer(learning_rate=lr_discriminatr, beta1=0.5, beta2=0.999)\n",
        "\n",
        "# training variables for each optimizer\n",
        "# by default in tensorflow, all variables are updated by each optimizer, so we\n",
        "# need to precise for each one of them the specific varaibles to update\n",
        "# generator network variables\n",
        "gen_vars = tf.get_collection(tf.GraphKeys.TRAINABLE_VARIABLES, scope='Generator')\n",
        "# discriminator network variables\n",
        "disc_vars = tf.get_collection(tf.GraphKeys.TRAINABLE_VARIABLES, scope='Discriminator')"
      ],
      "execution_count": 0,
      "outputs": []
    },
    {
      "cell_type": "code",
      "metadata": {
        "id": "VjWCg3J8jgW-",
        "colab_type": "code",
        "colab": {}
      },
      "source": [
        "# create training operations\n",
        "# tensorflow update_ops collection holds all batch_norm operation to update moving mean/stddev\n",
        "gen_update_ops = tf.get_collection(tf.GraphKeys.UPDATE_OPS, scope='Generator')\n",
        "\n",
        "#control_dependencies ensure that the gen_update_ops will be run before minimize op (backprop)\n",
        "with tf.control_dependencies(gen_update_ops):\n",
        "  train_gen = optimizer_gen.minimize(gen_loss, var_list=gen_vars)\n",
        "disc_update_ops = tf.get_collection(tf.GraphKeys.UPDATE_OPS, scope='Discriminator')  \n",
        "with tf.control_dependencies(disc_update_ops):\n",
        "  train_disc=optimizer_disc.minimize(disc_loss, var_list=disc_vars)\n",
        "  \n",
        "#initialize variables\n",
        "init=tf.global_variables_initializer()"
      ],
      "execution_count": 0,
      "outputs": []
    },
    {
      "cell_type": "code",
      "metadata": {
        "id": "qtxP70rNkc_c",
        "colab_type": "code",
        "outputId": "9198572c-14b7-4be2-c741-a498a71cd69f",
        "colab": {
          "base_uri": "https://localhost:8080/",
          "height": 382
        }
      },
      "source": [
        "# start training\n",
        "#start new tf session\n",
        "\n",
        "sess=tf.Session()\n",
        "\n",
        "#run init\n",
        "sess.run(init)\n",
        "\n",
        "#Training\n",
        "for i in range(1, num_steps+1):\n",
        "  #prepare input data\n",
        "  #get next batch of MNIST data (only images are needed not labels)\n",
        "  batch_x, _ = mnist.train.next_batch(batch_size)\n",
        "  batch_x=np.reshape(batch_x, newshape=[-1,28,28,1])\n",
        "  #rescale to [-1,1], the input range of discriminator\n",
        "  batch_x = batch_x*2. - 1\n",
        "  \n",
        "  #discriminator training\n",
        "  # generate noise to feed to generator\n",
        "  z = np.random.uniform(-1., 1., size=[batch_size, noise_dim])\n",
        "  _, dl = sess.run([train_disc, disc_loss], feed_dict={real_image_input:batch_x,noise_input:z, is_training:True})\n",
        "  \n",
        "  #generator training\n",
        "  # generte noise to feed to generator\n",
        "  z=np.random.uniform(-1., 1., size=[batch_size, noise_dim])\n",
        "  _, gl = sess.run([train_gen, gen_loss], feed_dict={noise_input:z, is_training:True})\n",
        "  \n",
        "  if i%500 ==0 or i==1:\n",
        "    print('Step %i: Generator loss:%f, Discriminator loss:%f'%(i, gl, dl))"
      ],
      "execution_count": 0,
      "outputs": [
        {
          "output_type": "stream",
          "text": [
            "Step 1: Generator loss:3.306081, Discriminator loss:1.893705\n",
            "Step 500: Generator loss:1.567460, Discriminator loss:0.945827\n",
            "Step 1000: Generator loss:1.836189, Discriminator loss:0.843688\n",
            "Step 1500: Generator loss:2.509949, Discriminator loss:0.726394\n",
            "Step 2000: Generator loss:2.759433, Discriminator loss:0.641395\n",
            "Step 2500: Generator loss:3.482307, Discriminator loss:0.336856\n",
            "Step 3000: Generator loss:3.833894, Discriminator loss:0.179383\n",
            "Step 3500: Generator loss:3.598334, Discriminator loss:0.154993\n",
            "Step 4000: Generator loss:4.157561, Discriminator loss:0.139682\n",
            "Step 4500: Generator loss:4.076418, Discriminator loss:0.336944\n",
            "Step 5000: Generator loss:3.767543, Discriminator loss:0.523224\n",
            "Step 5500: Generator loss:4.728370, Discriminator loss:0.099968\n",
            "Step 6000: Generator loss:3.895862, Discriminator loss:0.117885\n",
            "Step 6500: Generator loss:4.489628, Discriminator loss:0.096012\n",
            "Step 7000: Generator loss:4.735268, Discriminator loss:0.072155\n",
            "Step 7500: Generator loss:5.351164, Discriminator loss:0.297192\n",
            "Step 8000: Generator loss:5.285925, Discriminator loss:0.182260\n",
            "Step 8500: Generator loss:4.420221, Discriminator loss:0.172640\n",
            "Step 9000: Generator loss:4.888299, Discriminator loss:0.141684\n",
            "Step 9500: Generator loss:6.261578, Discriminator loss:0.039311\n",
            "Step 10000: Generator loss:5.855391, Discriminator loss:0.155913\n"
          ],
          "name": "stdout"
        }
      ]
    },
    {
      "cell_type": "code",
      "metadata": {
        "id": "ZUqTzlMnm5AT",
        "colab_type": "code",
        "outputId": "d7e818a7-769c-4100-d6fc-4bae4ef892cf",
        "colab": {
          "base_uri": "https://localhost:8080/",
          "height": 378
        }
      },
      "source": [
        "#testing\n",
        "# generate images from noise, using generator network\n",
        "n=6\n",
        "canvas = np.empty((28*n,28*n))\n",
        "for i in range(n):\n",
        "  #noise input\n",
        "  z=np.random.uniform(-1.,1., size=[n,noise_dim])\n",
        "  #generate image from noise\n",
        "  g=sess.run(gen_sample, feed_dict={noise_input:z, is_training:False})\n",
        "  #rescale values to original [0,1] (from tanh -> [-1,1])\n",
        "  g=-1*(g-1)\n",
        "  for j in range(n):\n",
        "    #draw the generated digits\n",
        "    canvas[i*28:(i+1)*28, j*28:(j+1)*28] = g[j].reshape([28,28])\n",
        "\n",
        "plt.figure(figsize=(n,n))    \n",
        "plt.imshow(canvas, origin=\"upper\", cmap=\"gray\")\n",
        "plt.show()"
      ],
      "execution_count": 0,
      "outputs": [
        {
          "output_type": "display_data",
          "data": {
            "image/png": "[encoded data removed]",
            "text/plain": [
              "<Figure size 432x432 with 1 Axes>"
            ]
          },
          "metadata": {
            "tags": []
          }
        }
      ]
    },
    {
      "cell_type": "markdown",
      "metadata": {
        "id": "fNKJ_vpb55Bm",
        "colab_type": "text"
      },
      "source": [
        ""
      ]
    }
  ]
}