{
  "nbformat": 4,
  "nbformat_minor": 0,
  "metadata": {
    "colab": {
      "name": "gan.ipynb",
      "version": "0.3.2",
      "provenance": [],
      "collapsed_sections": []
    },
    "kernelspec": {
      "name": "python2",
      "display_name": "Python 2"
    },
    "accelerator": "GPU"
  },
  "cells": [
    {
      "cell_type": "markdown",
      "metadata": {
        "id": "OTFRKrO_H3Ck",
        "colab_type": "text"
      },
      "source": [
        "Build a generative adversarial network (GAN) to generate digit images from a noise distribution with TensorFlow.\n",
        "\n",
        "\n",
        "\n",
        "*References*:\n",
        "\n",
        "* Generative adversarial nets. I Goodfellow, J Pouget-Abadie, M Mirza, B Xu, D Warde-Farley, S Ozair, Y. Bengio. Advances in neural information processing systems, 2672-2680.\n",
        "* Understanding the difficulty of training deep feedforward neural networks. X Glorot, Y Bengio. Aistats 9, 249-256\n"
      ]
    },
    {
      "cell_type": "code",
      "metadata": {
        "id": "KP1Qr0tdcUc9",
        "colab_type": "code",
        "colab": {}
      },
      "source": [
        "from __future__ import print_function, absolute_import, division\n",
        "\n",
        "import matplotlib.pyplot as plt\n",
        "import tensorflow as tf\n",
        "import numpy as np"
      ],
      "execution_count": 0,
      "outputs": []
    },
    {
      "cell_type": "code",
      "metadata": {
        "id": "G7JJbrkAcfQH",
        "colab_type": "code",
        "colab": {
          "base_uri": "https://localhost:8080/",
          "height": 444
        },
        "outputId": "bac80915-ed3d-4a59-9a18-6cb5fa5165d0"
      },
      "source": [
        "from tensorflow.examples.tutorials.mnist import input_data\n",
        "mnist=input_data.read_data_sets(\"/tmp/data/\", one_hot=True)"
      ],
      "execution_count": 2,
      "outputs": [
        {
          "output_type": "stream",
          "text": [
            "WARNING: Logging before flag parsing goes to stderr.\n",
            "W0820 20:13:52.160975 140074131830656 deprecation.py:323] From <ipython-input-2-9be85178da70>:2: read_data_sets (from tensorflow.contrib.learn.python.learn.datasets.mnist) is deprecated and will be removed in a future version.\n",
            "Instructions for updating:\n",
            "Please use alternatives such as official/mnist/dataset.py from tensorflow/models.\n",
            "W0820 20:13:52.162314 140074131830656 deprecation.py:323] From /usr/local/lib/python2.7/dist-packages/tensorflow/contrib/learn/python/learn/datasets/mnist.py:260: maybe_download (from tensorflow.contrib.learn.python.learn.datasets.base) is deprecated and will be removed in a future version.\n",
            "Instructions for updating:\n",
            "Please write your own downloading logic.\n",
            "W0820 20:13:52.163317 140074131830656 deprecation.py:323] From /usr/local/lib/python2.7/dist-packages/tensorflow/contrib/learn/python/learn/datasets/mnist.py:262: extract_images (from tensorflow.contrib.learn.python.learn.datasets.mnist) is deprecated and will be removed in a future version.\n",
            "Instructions for updating:\n",
            "Please use tf.data to implement this functionality.\n"
          ],
          "name": "stderr"
        },
        {
          "output_type": "stream",
          "text": [
            "Extracting /tmp/data/train-images-idx3-ubyte.gz\n"
          ],
          "name": "stdout"
        },
        {
          "output_type": "stream",
          "text": [
            "W0820 20:13:52.461559 140074131830656 deprecation.py:323] From /usr/local/lib/python2.7/dist-packages/tensorflow/contrib/learn/python/learn/datasets/mnist.py:267: extract_labels (from tensorflow.contrib.learn.python.learn.datasets.mnist) is deprecated and will be removed in a future version.\n",
            "Instructions for updating:\n",
            "Please use tf.data to implement this functionality.\n",
            "W0820 20:13:52.464764 140074131830656 deprecation.py:323] From /usr/local/lib/python2.7/dist-packages/tensorflow/contrib/learn/python/learn/datasets/mnist.py:110: dense_to_one_hot (from tensorflow.contrib.learn.python.learn.datasets.mnist) is deprecated and will be removed in a future version.\n",
            "Instructions for updating:\n",
            "Please use tf.one_hot on tensors.\n",
            "W0820 20:13:52.511097 140074131830656 deprecation.py:323] From /usr/local/lib/python2.7/dist-packages/tensorflow/contrib/learn/python/learn/datasets/mnist.py:290: __init__ (from tensorflow.contrib.learn.python.learn.datasets.mnist) is deprecated and will be removed in a future version.\n",
            "Instructions for updating:\n",
            "Please use alternatives such as official/mnist/dataset.py from tensorflow/models.\n"
          ],
          "name": "stderr"
        },
        {
          "output_type": "stream",
          "text": [
            "Extracting /tmp/data/train-labels-idx1-ubyte.gz\n",
            "Extracting /tmp/data/t10k-images-idx3-ubyte.gz\n",
            "Extracting /tmp/data/t10k-labels-idx1-ubyte.gz\n"
          ],
          "name": "stdout"
        }
      ]
    },
    {
      "cell_type": "code",
      "metadata": {
        "id": "s_0auJDocq_z",
        "colab_type": "code",
        "colab": {}
      },
      "source": [
        "# training hyperparameters\n",
        "num_steps = 65000\n",
        "batch_size = 128\n",
        "learning_rate = 0.0002\n",
        "\n",
        "# network parameters\n",
        "image_dim = 784\n",
        "gen_hidden_dim=256\n",
        "disc_hidden_dim=256\n",
        "noise_dim=100\n",
        "\n",
        "# custom initialization (Xavier Glorot initialization)\n",
        "def glorot_init(shape):\n",
        "  return tf.random_normal(shape=shape, stddev=1./tf.sqrt(shape[0]/2))\n"
      ],
      "execution_count": 0,
      "outputs": []
    },
    {
      "cell_type": "code",
      "metadata": {
        "id": "iIJsC77kdQeI",
        "colab_type": "code",
        "colab": {}
      },
      "source": [
        "# store layer weights and biases\n",
        "weights = {\n",
        "    'gen_hidden_1':tf.Variable(glorot_init([noise_dim, gen_hidden_dim])),\n",
        "    'gen_out': tf.Variable(glorot_init([gen_hidden_dim, image_dim])),\n",
        "    'disc_hidden_1': tf.Variable(glorot_init([image_dim, disc_hidden_dim])),\n",
        "    'disc_out' : tf.Variable(glorot_init([disc_hidden_dim, 1])),\n",
        "}\n",
        "\n",
        "bias = {\n",
        "    'gen_hidden_1':tf.Variable(tf.zeros([gen_hidden_dim])),\n",
        "    'gen_out':tf.Variable(tf.zeros([image_dim])),\n",
        "    'disc_hidden_1':tf.Variable(tf.zeros([disc_hidden_dim])),\n",
        "    'disc_out':tf.Variable(tf.zeros([1])),\n",
        "    \n",
        "}"
      ],
      "execution_count": 0,
      "outputs": []
    },
    {
      "cell_type": "code",
      "metadata": {
        "id": "ksWlKGiRepGn",
        "colab_type": "code",
        "colab": {}
      },
      "source": [
        "# create generator\n",
        "def generator(x):\n",
        "  hidden_layer = tf.matmul(x, weights['gen_hidden_1'])\n",
        "  hidden_layer = tf.add(hidden_layer, bias['gen_hidden_1'])\n",
        "  hidden_layer = tf.nn.relu(hidden_layer)\n",
        "  \n",
        "  out_layer = tf.matmul(hidden_layer, weights['gen_out'])\n",
        "  out_layer = tf.add(out_layer, bias['gen_out'])\n",
        "  out_layer = tf.nn.sigmoid(out_layer)\n",
        "  \n",
        "  return out_layer\n",
        "\n",
        "# create discriminator\n",
        "def discriminator(x):\n",
        "  hidden_layer = tf.matmul(x, weights['disc_hidden_1'])\n",
        "  hidden_layer = tf.add(hidden_layer, bias['disc_hidden_1'])\n",
        "  hidden_layer = tf.nn.relu(hidden_layer)\n",
        "  \n",
        "  out_layer = tf.matmul(hidden_layer, weights['disc_out'])\n",
        "  out_layer = tf.add(out_layer, bias['disc_out'])\n",
        "  out_layer = tf.nn.sigmoid(out_layer)\n",
        "  \n",
        "  return out_layer"
      ],
      "execution_count": 0,
      "outputs": []
    },
    {
      "cell_type": "code",
      "metadata": {
        "id": "oiG616knfkx6",
        "colab_type": "code",
        "colab": {}
      },
      "source": [
        "# build network\n",
        "\n",
        "# network inputs\n",
        "gen_input = tf.placeholder(tf.float32, shape =[None, noise_dim], \n",
        "                           name='input_noise')\n",
        "disc_input = tf.placeholder(tf.float32, shape=[None, image_dim],\n",
        "                           name='disc_input')\n",
        "\n",
        "# build generator network\n",
        "gen_sample = generator(gen_input)\n",
        "\n",
        "# build 2 discriminator networks (one from noise input, one from generated samples)\n",
        "disc_real = discriminator(disc_input)\n",
        "disc_fake = discriminator(gen_sample)\n",
        "\n",
        "# build loss\n",
        "gen_loss = -tf.reduce_mean(tf.log(disc_fake))\n",
        "disc_loss = -tf.reduce_mean(tf.log(disc_real)+ tf.log(1.0 - disc_fake))\n",
        "\n",
        "# build optimizers\n",
        "optimizer_gen = tf.train.AdamOptimizer(learning_rate = learning_rate)\n",
        "optimizer_disc=tf.train.AdamOptimizer(learning_rate = learning_rate)\n",
        "\n",
        "# train variables for each optimizer\n",
        "# by default in tensorflow, all variables are updated by each optimizer,\n",
        "# so we need to specify for each one of them the corresponding variables to\n",
        "# update\n",
        "\n",
        "# generator network variables\n",
        "gen_vars = [weights['gen_hidden_1'], weights['gen_out'],\n",
        "           bias['gen_hidden_1'], bias['gen_out']]\n",
        "\n",
        "# discriminator network variables\n",
        "disc_vars = [weights['disc_hidden_1'], weights['disc_out'],\n",
        "             bias['disc_hidden_1'], bias['disc_out']]\n",
        "\n",
        "#create training operations\n",
        "train_gen = optimizer_gen.minimize(gen_loss, var_list=gen_vars)\n",
        "train_disc = optimizer_disc.minimize(disc_loss, var_list=disc_vars)\n",
        "\n",
        "init = tf.global_variables_initializer()"
      ],
      "execution_count": 0,
      "outputs": []
    },
    {
      "cell_type": "code",
      "metadata": {
        "id": "34LswC_uh2eM",
        "colab_type": "code",
        "colab": {
          "base_uri": "https://localhost:8080/",
          "height": 962
        },
        "outputId": "8429c9ed-8b35-4594-f645-0dad2d53bb53"
      },
      "source": [
        "sess = tf.Session()\n",
        "\n",
        "sess.run(init)\n",
        "\n",
        "for i in range(1, num_steps+1):\n",
        "  #prepare data\n",
        "  #get next batch of mnist dataset (only images are needed not labels)\n",
        "  batch_x, _ = mnist.train.next_batch(batch_size)\n",
        "  #generate noise to feed to generator\n",
        "  z=np.random.uniform(-1.0, 1, size=[batch_size, noise_dim])\n",
        "  \n",
        "  \n",
        "  #train\n",
        "  feed_dict = {disc_input:batch_x, gen_input:z}\n",
        "  _, _, gl, dl = sess.run([train_gen, train_disc, gen_loss, disc_loss],\n",
        "                         feed_dict = feed_dict)\n",
        "  \n",
        "  if i%2000 ==0 or i==1:\n",
        "    print(\"Step\",i, \"Generator loss\", gl, \"Discriminator loss\", dl)\n",
        "  \n",
        "# testing\n",
        "#generate images from noise, using generator network\n",
        "\n",
        "n = 6\n",
        "canvas = np.empty((28*n, 28*n))\n",
        "\n",
        "for i in range(n):\n",
        "  # noise input\n",
        "  z = np.random.uniform(-1.0,1.0,size=[n, noise_dim])\n",
        "  # generate image from noise\n",
        "  g = sess.run(gen_sample, feed_dict = {gen_input:z})\n",
        "  \n",
        "  #reverse color for better display\n",
        "  g = -1 * (g-1)\n",
        "  \n",
        "  for j in range(n):\n",
        "    #draw the generated digits\n",
        "    canvas[i*28:(i+1)*28, j*28:(j+1)*28] = g[j].reshape([28,28])\n",
        "    \n",
        "plt.figure(figsize=(n,n))\n",
        "plt.imshow(canvas, origin= \"upper\", cmap=\"gray\")\n",
        "plt.show()  "
      ],
      "execution_count": 7,
      "outputs": [
        {
          "output_type": "stream",
          "text": [
            "Step 1 Generator loss 0.55665845 Discriminator loss 1.4112484\n",
            "Step 2000 Generator loss 4.7609076 Discriminator loss 0.032849953\n",
            "Step 4000 Generator loss 4.3210726 Discriminator loss 0.05319675\n",
            "Step 6000 Generator loss 3.4679523 Discriminator loss 0.13558125\n",
            "Step 8000 Generator loss 3.292874 Discriminator loss 0.24784315\n",
            "Step 10000 Generator loss 4.093201 Discriminator loss 0.09823951\n",
            "Step 12000 Generator loss 3.3236246 Discriminator loss 0.27313673\n",
            "Step 14000 Generator loss 3.7682214 Discriminator loss 0.25052544\n",
            "Step 16000 Generator loss 3.3911061 Discriminator loss 0.27736008\n",
            "Step 18000 Generator loss 3.6717641 Discriminator loss 0.23557925\n",
            "Step 20000 Generator loss 3.9974973 Discriminator loss 0.3028608\n",
            "Step 22000 Generator loss 3.902689 Discriminator loss 0.18167815\n",
            "Step 24000 Generator loss 3.942333 Discriminator loss 0.15715481\n",
            "Step 26000 Generator loss 3.636994 Discriminator loss 0.24623874\n",
            "Step 28000 Generator loss 3.9382393 Discriminator loss 0.21390484\n",
            "Step 30000 Generator loss 3.4677806 Discriminator loss 0.36162025\n",
            "Step 32000 Generator loss 3.2506986 Discriminator loss 0.43506995\n",
            "Step 34000 Generator loss 3.0914958 Discriminator loss 0.37520677\n",
            "Step 36000 Generator loss 3.4523706 Discriminator loss 0.4540305\n",
            "Step 38000 Generator loss 2.9300716 Discriminator loss 0.3324129\n",
            "Step 40000 Generator loss 3.2332764 Discriminator loss 0.36372045\n",
            "Step 42000 Generator loss 2.8115559 Discriminator loss 0.49306974\n",
            "Step 44000 Generator loss 2.7337708 Discriminator loss 0.46349582\n",
            "Step 46000 Generator loss 2.7950037 Discriminator loss 0.51374686\n",
            "Step 48000 Generator loss 2.8587499 Discriminator loss 0.40959468\n",
            "Step 50000 Generator loss 2.7471595 Discriminator loss 0.38462287\n",
            "Step 52000 Generator loss 2.481101 Discriminator loss 0.40632927\n",
            "Step 54000 Generator loss 2.7359533 Discriminator loss 0.51769686\n",
            "Step 56000 Generator loss 2.5797772 Discriminator loss 0.47933042\n",
            "Step 58000 Generator loss 2.69277 Discriminator loss 0.4529324\n",
            "Step 60000 Generator loss 2.8144946 Discriminator loss 0.4593566\n",
            "Step 62000 Generator loss 2.718089 Discriminator loss 0.6428317\n",
            "Step 64000 Generator loss 2.9618585 Discriminator loss 0.41736373\n"
          ],
          "name": "stdout"
        },
        {
          "output_type": "display_data",
          "data": {
            "image/png": "[encoded data removed]",
            "text/plain": [
              "<Figure size 432x432 with 1 Axes>"
            ]
          },
          "metadata": {
            "tags": []
          }
        }
      ]
    }
  ]
}