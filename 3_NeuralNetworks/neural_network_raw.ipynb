{
  "nbformat": 4,
  "nbformat_minor": 0,
  "metadata": {
    "colab": {
      "name": "neural_network_raw.ipynb",
      "version": "0.3.2",
      "provenance": [],
      "collapsed_sections": []
    },
    "kernelspec": {
      "name": "python2",
      "display_name": "Python 2"
    },
    "accelerator": "GPU"
  },
  "cells": [
    {
      "cell_type": "markdown",
      "metadata": {
        "id": "OTFRKrO_H3Ck",
        "colab_type": "text"
      },
      "source": [
        "Build a 2-hidden layers fully connected neural network (a.k.a multilayer perceptron) with TensorFlow.\n",
        "\n",
        "\n"
      ]
    },
    {
      "cell_type": "code",
      "metadata": {
        "id": "wS5voWThBgn9",
        "colab_type": "code",
        "colab": {
          "base_uri": "https://localhost:8080/",
          "height": 569
        },
        "outputId": "5b58fe8c-aa94-45a1-f667-789d47ec935f"
      },
      "source": [
        "from __future__ import print_function, absolute_import\n",
        "\n",
        "import tensorflow as tf\n",
        "import numpy as np\n",
        "\n",
        "from tensorflow.examples.tutorials.mnist import input_data\n",
        "mnist=input_data.read_data_sets(\"/tmp/data\", one_hot=True)\n"
      ],
      "execution_count": 1,
      "outputs": [
        {
          "output_type": "stream",
          "text": [
            "WARNING: Logging before flag parsing goes to stderr.\n",
            "W0820 21:55:42.560141 139750672516992 deprecation.py:323] From <ipython-input-1-9d3aab9a1b45>:7: read_data_sets (from tensorflow.contrib.learn.python.learn.datasets.mnist) is deprecated and will be removed in a future version.\n",
            "Instructions for updating:\n",
            "Please use alternatives such as official/mnist/dataset.py from tensorflow/models.\n",
            "W0820 21:55:42.562397 139750672516992 deprecation.py:323] From /usr/local/lib/python2.7/dist-packages/tensorflow/contrib/learn/python/learn/datasets/mnist.py:260: maybe_download (from tensorflow.contrib.learn.python.learn.datasets.base) is deprecated and will be removed in a future version.\n",
            "Instructions for updating:\n",
            "Please write your own downloading logic.\n",
            "W0820 21:55:42.569145 139750672516992 deprecation.py:323] From /usr/local/lib/python2.7/dist-packages/tensorflow/contrib/learn/python/learn/datasets/base.py:252: wrapped_fn (from tensorflow.contrib.learn.python.learn.datasets.base) is deprecated and will be removed in a future version.\n",
            "Instructions for updating:\n",
            "Please use urllib or similar directly.\n",
            "W0820 21:55:43.072191 139750672516992 deprecation.py:323] From /usr/local/lib/python2.7/dist-packages/tensorflow/contrib/learn/python/learn/datasets/mnist.py:262: extract_images (from tensorflow.contrib.learn.python.learn.datasets.mnist) is deprecated and will be removed in a future version.\n",
            "Instructions for updating:\n",
            "Please use tf.data to implement this functionality.\n"
          ],
          "name": "stderr"
        },
        {
          "output_type": "stream",
          "text": [
            "Successfully downloaded train-images-idx3-ubyte.gz 9912422 bytes.\n",
            "Extracting /tmp/data/train-images-idx3-ubyte.gz\n"
          ],
          "name": "stdout"
        },
        {
          "output_type": "stream",
          "text": [
            "W0820 21:55:43.605016 139750672516992 deprecation.py:323] From /usr/local/lib/python2.7/dist-packages/tensorflow/contrib/learn/python/learn/datasets/mnist.py:267: extract_labels (from tensorflow.contrib.learn.python.learn.datasets.mnist) is deprecated and will be removed in a future version.\n",
            "Instructions for updating:\n",
            "Please use tf.data to implement this functionality.\n",
            "W0820 21:55:43.609165 139750672516992 deprecation.py:323] From /usr/local/lib/python2.7/dist-packages/tensorflow/contrib/learn/python/learn/datasets/mnist.py:110: dense_to_one_hot (from tensorflow.contrib.learn.python.learn.datasets.mnist) is deprecated and will be removed in a future version.\n",
            "Instructions for updating:\n",
            "Please use tf.one_hot on tensors.\n"
          ],
          "name": "stderr"
        },
        {
          "output_type": "stream",
          "text": [
            "Successfully downloaded train-labels-idx1-ubyte.gz 28881 bytes.\n",
            "Extracting /tmp/data/train-labels-idx1-ubyte.gz\n",
            "Successfully downloaded t10k-images-idx3-ubyte.gz 1648877 bytes.\n",
            "Extracting /tmp/data/t10k-images-idx3-ubyte.gz\n"
          ],
          "name": "stdout"
        },
        {
          "output_type": "stream",
          "text": [
            "W0820 21:55:44.113209 139750672516992 deprecation.py:323] From /usr/local/lib/python2.7/dist-packages/tensorflow/contrib/learn/python/learn/datasets/mnist.py:290: __init__ (from tensorflow.contrib.learn.python.learn.datasets.mnist) is deprecated and will be removed in a future version.\n",
            "Instructions for updating:\n",
            "Please use alternatives such as official/mnist/dataset.py from tensorflow/models.\n"
          ],
          "name": "stderr"
        },
        {
          "output_type": "stream",
          "text": [
            "Successfully downloaded t10k-labels-idx1-ubyte.gz 4542 bytes.\n",
            "Extracting /tmp/data/t10k-labels-idx1-ubyte.gz\n"
          ],
          "name": "stdout"
        }
      ]
    },
    {
      "cell_type": "code",
      "metadata": {
        "id": "3J0RjMLDB1NG",
        "colab_type": "code",
        "colab": {}
      },
      "source": [
        "# training hyperparameters\n",
        "learning_rate=0.1\n",
        "num_steps=500\n",
        "batch_size=128\n",
        "display_step=100\n",
        "\n",
        "#network hyperparameters\n",
        "n_hidden_1 = 256\n",
        "n_hidden_2=256\n",
        "num_input=784\n",
        "num_classes=10\n",
        "\n",
        "#tf graph input\n",
        "X=tf.placeholder(\"float\", [None, num_input])\n",
        "Y=tf.placeholder(\"float\", [None, num_classes])"
      ],
      "execution_count": 0,
      "outputs": []
    },
    {
      "cell_type": "code",
      "metadata": {
        "id": "0xVUIHaHCTjc",
        "colab_type": "code",
        "colab": {}
      },
      "source": [
        "# store layer wieghts and bias\n",
        "weights = {\n",
        "    'h1':tf.Variable(tf.random_normal([num_input, n_hidden_1])),\n",
        "    'h2':tf.Variable(tf.random_normal([n_hidden_1, n_hidden_2])),\n",
        "    'out':tf.Variable(tf.random_normal([n_hidden_2, num_classes]))\n",
        "}\n",
        "\n",
        "bias ={\n",
        "    'b1':tf.Variable(tf.random_normal([n_hidden_1])),\n",
        "    'b2':tf.Variable(tf.random_normal([n_hidden_2])),\n",
        "    'out':tf.Variable(tf.random_normal([num_classes]))\n",
        "}"
      ],
      "execution_count": 0,
      "outputs": []
    },
    {
      "cell_type": "code",
      "metadata": {
        "id": "7TqYzBrTDt7r",
        "colab_type": "code",
        "colab": {}
      },
      "source": [
        "def neural_net(x):\n",
        "  layer_1=tf.matmul(x, weights['h1'])\n",
        "  layer_1=tf.add(layer_1, bias['b1'])\n",
        "  \n",
        "  layer_2=tf.matmul(layer_1, weights['h2'])\n",
        "  layer_2=tf.add(layer_2, bias['b2'])\n",
        "  \n",
        "  out=tf.matmul(layer_2, weights['out'])\n",
        "  out=tf.add(out, bias['out'])\n",
        "  \n",
        "  return out"
      ],
      "execution_count": 0,
      "outputs": []
    },
    {
      "cell_type": "code",
      "metadata": {
        "id": "7BG7gh47C3nT",
        "colab_type": "code",
        "colab": {
          "base_uri": "https://localhost:8080/",
          "height": 179
        },
        "outputId": "ddf47828-2e79-4a37-c557-a404278139a8"
      },
      "source": [
        "# create the model\n",
        "logits = neural_net(X)\n",
        "\n",
        "# define loss and optimizer\n",
        "loss_op=tf.reduce_mean(tf.nn.softmax_cross_entropy_with_logits(logits=logits,\n",
        "                                                              labels=Y))\n",
        "optimizer = tf.train.AdamOptimizer(learning_rate=learning_rate)\n",
        "train_op=optimizer.minimize(loss_op)\n",
        "\n",
        "#evaluate model (with test logits, for dropout to be disabled)\n",
        "correct_pred=tf.equal(tf.argmax(logits,1), tf.argmax(Y,1))\n",
        "accuracy=tf.reduce_mean(tf.cast(correct_pred, tf.float32))\n",
        "\n",
        "# initialize variables\n",
        "init=tf.global_variables_initializer()"
      ],
      "execution_count": 9,
      "outputs": [
        {
          "output_type": "stream",
          "text": [
            "W0820 22:06:40.776988 139750672516992 deprecation.py:323] From <ipython-input-9-a3d2dc4f197d>:5: softmax_cross_entropy_with_logits (from tensorflow.python.ops.nn_ops) is deprecated and will be removed in a future version.\n",
            "Instructions for updating:\n",
            "\n",
            "Future major versions of TensorFlow will allow gradients to flow\n",
            "into the labels input on backprop by default.\n",
            "\n",
            "See `tf.nn.softmax_cross_entropy_with_logits_v2`.\n",
            "\n"
          ],
          "name": "stderr"
        }
      ]
    },
    {
      "cell_type": "code",
      "metadata": {
        "id": "zTU5iIZdEYPW",
        "colab_type": "code",
        "colab": {
          "base_uri": "https://localhost:8080/",
          "height": 159
        },
        "outputId": "479511bc-845e-403b-a915-13259fa4f95c"
      },
      "source": [
        "with tf.Session() as sess:\n",
        "  sess.run(init)\n",
        "  for step in range(1, num_steps+1):\n",
        "    batch_x, batch_y=mnist.train.next_batch(batch_size)\n",
        "    sess.run(train_op, feed_dict={X:batch_x, Y:batch_y})\n",
        "\n",
        "    if step%display_step==0 or step==1:\n",
        "      loss, acc = sess.run([loss_op, accuracy], feed_dict={X:batch_x, Y:batch_y})\n",
        "\n",
        "      print(\"Step\", step, \"Loss\", loss,\"Accuracy\",accuracy)\n",
        "\n",
        "  print(\"Optimization finished!\")\n",
        "  \n",
        "  #calculate accuracy for mnist images\n",
        "  print(\"testing accuracy\", sess.run(accuracy, feed_dict={X:mnist.test.images,\n",
        "                                    Y:mnist.test.labels}))\n",
        "  \n",
        "    \n",
        "    "
      ],
      "execution_count": 12,
      "outputs": [
        {
          "output_type": "stream",
          "text": [
            "Step 1 Loss 6730.7676 Accuracy Tensor(\"Mean_1:0\", shape=(), dtype=float32)\n",
            "Step 100 Loss 199.25468 Accuracy Tensor(\"Mean_1:0\", shape=(), dtype=float32)\n",
            "Step 200 Loss 114.89983 Accuracy Tensor(\"Mean_1:0\", shape=(), dtype=float32)\n",
            "Step 300 Loss 84.48743 Accuracy Tensor(\"Mean_1:0\", shape=(), dtype=float32)\n",
            "Step 400 Loss 108.10021 Accuracy Tensor(\"Mean_1:0\", shape=(), dtype=float32)\n",
            "Step 500 Loss 15.345755 Accuracy Tensor(\"Mean_1:0\", shape=(), dtype=float32)\n",
            "Optimization finished!\n",
            "testing accuracy 0.87\n"
          ],
          "name": "stdout"
        }
      ]
    }
  ]
}