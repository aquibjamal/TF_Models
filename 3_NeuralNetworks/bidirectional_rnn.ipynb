{
  "nbformat": 4,
  "nbformat_minor": 0,
  "metadata": {
    "colab": {
      "name": "bidirectional_rnn.ipynb",
      "version": "0.3.2",
      "provenance": [],
      "collapsed_sections": []
    },
    "kernelspec": {
      "name": "python2",
      "display_name": "Python 2"
    },
    "accelerator": "GPU"
  },
  "cells": [
    {
      "cell_type": "markdown",
      "metadata": {
        "id": "slgpIS_pZ7Ly",
        "colab_type": "text"
      },
      "source": [
        "Build a bi-directional recurrent neural network (LSTM) with TensorFlow.\n",
        "\n",
        "\n",
        "References:\n",
        "*   Long Short Term Memory, Sepp Hochreiter & Jurgen Schmidhuber, Neural Computation 9(8): 1735-1780, 1997.\n",
        "\n"
      ]
    },
    {
      "cell_type": "code",
      "metadata": {
        "id": "CR3w-TWHtwJH",
        "colab_type": "code",
        "colab": {}
      },
      "source": [
        "from __future__ import print_function\n",
        "\n",
        "import numpy as np\n",
        "import tensorflow as tf\n",
        "from tensorflow.contrib import rnn"
      ],
      "execution_count": 0,
      "outputs": []
    },
    {
      "cell_type": "code",
      "metadata": {
        "id": "sp0Jh1Tst-2R",
        "colab_type": "code",
        "colab": {
          "base_uri": "https://localhost:8080/",
          "height": 551
        },
        "outputId": "88207d5c-9887-43dd-eb9b-74f717143efe"
      },
      "source": [
        "from tensorflow.examples.tutorials.mnist import input_data\n",
        "mnist= input_data.read_data_sets(\"/tmp/data\", one_hot=True)"
      ],
      "execution_count": 2,
      "outputs": [
        {
          "output_type": "stream",
          "text": [
            "W0816 09:18:30.034116 139683358246784 deprecation.py:323] From <ipython-input-2-281fd4647692>:2: read_data_sets (from tensorflow.contrib.learn.python.learn.datasets.mnist) is deprecated and will be removed in a future version.\n",
            "Instructions for updating:\n",
            "Please use alternatives such as official/mnist/dataset.py from tensorflow/models.\n",
            "W0816 09:18:30.035943 139683358246784 deprecation.py:323] From /usr/local/lib/python2.7/dist-packages/tensorflow/contrib/learn/python/learn/datasets/mnist.py:260: maybe_download (from tensorflow.contrib.learn.python.learn.datasets.base) is deprecated and will be removed in a future version.\n",
            "Instructions for updating:\n",
            "Please write your own downloading logic.\n",
            "W0816 09:18:30.038042 139683358246784 deprecation.py:323] From /usr/local/lib/python2.7/dist-packages/tensorflow/contrib/learn/python/learn/datasets/base.py:252: wrapped_fn (from tensorflow.contrib.learn.python.learn.datasets.base) is deprecated and will be removed in a future version.\n",
            "Instructions for updating:\n",
            "Please use urllib or similar directly.\n",
            "W0816 09:18:30.152359 139683358246784 deprecation.py:323] From /usr/local/lib/python2.7/dist-packages/tensorflow/contrib/learn/python/learn/datasets/mnist.py:262: extract_images (from tensorflow.contrib.learn.python.learn.datasets.mnist) is deprecated and will be removed in a future version.\n",
            "Instructions for updating:\n",
            "Please use tf.data to implement this functionality.\n"
          ],
          "name": "stderr"
        },
        {
          "output_type": "stream",
          "text": [
            "Successfully downloaded train-images-idx3-ubyte.gz 9912422 bytes.\n",
            "Extracting /tmp/data/train-images-idx3-ubyte.gz\n"
          ],
          "name": "stdout"
        },
        {
          "output_type": "stream",
          "text": [
            "W0816 09:18:30.515084 139683358246784 deprecation.py:323] From /usr/local/lib/python2.7/dist-packages/tensorflow/contrib/learn/python/learn/datasets/mnist.py:267: extract_labels (from tensorflow.contrib.learn.python.learn.datasets.mnist) is deprecated and will be removed in a future version.\n",
            "Instructions for updating:\n",
            "Please use tf.data to implement this functionality.\n",
            "W0816 09:18:30.520853 139683358246784 deprecation.py:323] From /usr/local/lib/python2.7/dist-packages/tensorflow/contrib/learn/python/learn/datasets/mnist.py:110: dense_to_one_hot (from tensorflow.contrib.learn.python.learn.datasets.mnist) is deprecated and will be removed in a future version.\n",
            "Instructions for updating:\n",
            "Please use tf.one_hot on tensors.\n",
            "W0816 09:18:30.623265 139683358246784 deprecation.py:323] From /usr/local/lib/python2.7/dist-packages/tensorflow/contrib/learn/python/learn/datasets/mnist.py:290: __init__ (from tensorflow.contrib.learn.python.learn.datasets.mnist) is deprecated and will be removed in a future version.\n",
            "Instructions for updating:\n",
            "Please use alternatives such as official/mnist/dataset.py from tensorflow/models.\n"
          ],
          "name": "stderr"
        },
        {
          "output_type": "stream",
          "text": [
            "Successfully downloaded train-labels-idx1-ubyte.gz 28881 bytes.\n",
            "Extracting /tmp/data/train-labels-idx1-ubyte.gz\n",
            "Successfully downloaded t10k-images-idx3-ubyte.gz 1648877 bytes.\n",
            "Extracting /tmp/data/t10k-images-idx3-ubyte.gz\n",
            "Successfully downloaded t10k-labels-idx1-ubyte.gz 4542 bytes.\n",
            "Extracting /tmp/data/t10k-labels-idx1-ubyte.gz\n"
          ],
          "name": "stdout"
        }
      ]
    },
    {
      "cell_type": "code",
      "metadata": {
        "id": "kaN7scvbuLLU",
        "colab_type": "code",
        "colab": {}
      },
      "source": [
        "# training hyperparameters\n",
        "learning_rate = 0.001\n",
        "training_steps = 10000\n",
        "batch_size = 128\n",
        "display_step = 200\n",
        "\n",
        "# network hyperparameters\n",
        "num_input = 28\n",
        "timesteps = 28\n",
        "num_hidden = 128\n",
        "num_classes = 10"
      ],
      "execution_count": 0,
      "outputs": []
    },
    {
      "cell_type": "code",
      "metadata": {
        "id": "qI88NY2eu7Aq",
        "colab_type": "code",
        "colab": {}
      },
      "source": [
        "# graph inputs\n",
        "X = tf.placeholder(\"float\", [None, timesteps, num_input])\n",
        "Y = tf.placeholder(\"float\", [None, num_classes])"
      ],
      "execution_count": 0,
      "outputs": []
    },
    {
      "cell_type": "code",
      "metadata": {
        "id": "IfUQT9FSvJdk",
        "colab_type": "code",
        "colab": {}
      },
      "source": [
        "# Define weights\n",
        "weights = {\n",
        "    # hidden layer wieghts -> 2*n_hidden because of forward and backward cells\n",
        "    'out':tf.Variable(tf.random_normal([2*num_hidden, num_classes]))\n",
        "}\n",
        "biases = {\n",
        "    'out':tf.Variable(tf.random_normal([num_classes]))\n",
        "}"
      ],
      "execution_count": 0,
      "outputs": []
    },
    {
      "cell_type": "code",
      "metadata": {
        "id": "R173lZ-BvjKa",
        "colab_type": "code",
        "colab": {}
      },
      "source": [
        "# Define BiRNN\n",
        "def BiRNN(x, weights, biases):\n",
        "  # prepare data to match function requirements\n",
        "  # current data input shape - batch, timesteps, n_input\n",
        "  # required shape timesteps tensor lists of shape (batch, n_input)\n",
        "  \n",
        "  # unstack to get a list of 'timesteps' lists of tensors of shape (batch, n_input)\n",
        "  x = tf.unstack(x, timesteps,1)\n",
        "  \n",
        "  # define lstm cells with tensorflow\n",
        "  # forward direction cell\n",
        "  lstm_forward_cell = rnn.BasicLSTMCell(num_hidden, forget_bias=1.0)\n",
        "  \n",
        "  #backward direction cell\n",
        "  lstm_backward_cell = rnn.BasicLSTMCell(num_hidden, forget_bias=1.0)\n",
        "  \n",
        "  # Get lstm cell output\n",
        "  try:\n",
        "    outputs, _ ,_ = rnn.static_bidirectional_rnn(lstm_forward_cell, lstm_backward_cell,\n",
        "                                                x, dtype=tf.float32)\n",
        "  except Exception: # old tensorflow version returns only outputs not states\n",
        "    outputs = rnn.static_bidirectional_rnn(lstm_forward_cell, lstm_backward_cell,\n",
        "                                          x, dtype = tf.float32)\n",
        "    \n",
        "  return tf.matmul(outputs[-1], weights['out'])+biases['out']"
      ],
      "execution_count": 0,
      "outputs": []
    },
    {
      "cell_type": "code",
      "metadata": {
        "id": "qCRFOp_KxH__",
        "colab_type": "code",
        "colab": {
          "base_uri": "https://localhost:8080/",
          "height": 303
        },
        "outputId": "affa6ea6-2b27-4909-ba51-bc63176527fb"
      },
      "source": [
        "logits = BiRNN(X, weights, biases)\n",
        "prediction = tf.nn.softmax(logits)"
      ],
      "execution_count": 8,
      "outputs": [
        {
          "output_type": "stream",
          "text": [
            "W0816 09:32:10.605586 139683358246784 deprecation.py:323] From <ipython-input-6-d088e29a8c41>:11: __init__ (from tensorflow.python.ops.rnn_cell_impl) is deprecated and will be removed in a future version.\n",
            "Instructions for updating:\n",
            "This class is equivalent as tf.keras.layers.LSTMCell, and will be replaced by that in Tensorflow 2.0.\n",
            "W0816 09:32:10.607526 139683358246784 deprecation.py:323] From <ipython-input-6-d088e29a8c41>:19: static_bidirectional_rnn (from tensorflow.python.ops.rnn) is deprecated and will be removed in a future version.\n",
            "Instructions for updating:\n",
            "Please use `keras.layers.Bidirectional(keras.layers.RNN(cell, unroll=True))`, which is equivalent to this API\n",
            "W0816 09:32:10.609463 139683358246784 deprecation.py:323] From /usr/local/lib/python2.7/dist-packages/tensorflow/python/ops/rnn.py:1610: static_rnn (from tensorflow.python.ops.rnn) is deprecated and will be removed in a future version.\n",
            "Instructions for updating:\n",
            "Please use `keras.layers.RNN(cell, unroll=True)`, which is equivalent to this API\n",
            "W0816 09:32:10.640974 139683358246784 deprecation.py:506] From /usr/local/lib/python2.7/dist-packages/tensorflow/python/ops/init_ops.py:1251: calling __init__ (from tensorflow.python.ops.init_ops) with dtype is deprecated and will be removed in a future version.\n",
            "Instructions for updating:\n",
            "Call initializer instance with the dtype argument instead of passing it to the constructor\n",
            "W0816 09:32:10.651823 139683358246784 deprecation.py:506] From /usr/local/lib/python2.7/dist-packages/tensorflow/python/ops/rnn_cell_impl.py:738: calling __init__ (from tensorflow.python.ops.init_ops) with dtype is deprecated and will be removed in a future version.\n",
            "Instructions for updating:\n",
            "Call initializer instance with the dtype argument instead of passing it to the constructor\n"
          ],
          "name": "stderr"
        }
      ]
    },
    {
      "cell_type": "code",
      "metadata": {
        "id": "MmNftlUmxTbC",
        "colab_type": "code",
        "colab": {}
      },
      "source": [
        "# define loss and optimizer\n",
        "loss_op = tf.reduce_mean(tf.nn.softmax_cross_entropy_with_logits(logits=logits,\n",
        "                                                                labels=Y))\n",
        "optimizer = tf.train.GradientDescentOptimizer(learning_rate = learning_rate)\n",
        "train_op = optimizer.minimize(loss_op)\n",
        "\n",
        "#evaluate model with test logits and dropout disabled\n",
        "correct_pred = tf.equal(tf.argmax(prediction,1), tf.argmax(Y,1))\n",
        "accuracy = tf.reduce_mean(tf.cast(correct_pred, tf.float32))\n",
        "\n",
        "# initialize variables\n",
        "init = tf.global_variables_initializer()"
      ],
      "execution_count": 0,
      "outputs": []
    },
    {
      "cell_type": "code",
      "metadata": {
        "id": "Eo-ym9b1yRBd",
        "colab_type": "code",
        "colab": {
          "base_uri": "https://localhost:8080/",
          "height": 957
        },
        "outputId": "9afb698a-d59d-4a5b-9cb1-cae3bcfea9f3"
      },
      "source": [
        "# start session\n",
        "with tf.Session() as sess:\n",
        "  sess.run(init)\n",
        "  \n",
        "  for step in range(1, training_steps+1):\n",
        "    batch_x, batch_y = mnist.train.next_batch(batch_size)\n",
        "    \n",
        "    # reshape data to get 28 sequence of 28 elements\n",
        "    batch_x = batch_x.reshape((batch_size, timesteps, num_input))\n",
        "    \n",
        "    # run optimization op (backprop)\n",
        "    sess.run(train_op, feed_dict={X:batch_x, Y:batch_y})\n",
        "    \n",
        "    if step%display_step ==0 or step==1:\n",
        "      # calculate batch loss and accuracy\n",
        "      loss, acc = sess.run([loss_op, accuracy], feed_dict ={X:batch_x,\n",
        "                                                           Y:batch_y})\n",
        "      \n",
        "      print(\"Step\", step, \"Loss\", loss, \"Accuracy\", acc)\n",
        "  \n",
        "  print(\"Optimization finished\")\n",
        "  \n",
        "  #calculate accuracy for 128 test mnist images\n",
        "  test_len = 128\n",
        "  test_data = mnist.test.images[:test_len].reshape((-1, timesteps, num_input))\n",
        "  test_label = mnist.test.labels[:test_len]\n",
        "  print(\"Test Accuracy\", sess.run(accuracy, feed_dict={X:test_data,\n",
        "                                                      Y:test_label}))"
      ],
      "execution_count": 14,
      "outputs": [
        {
          "output_type": "stream",
          "text": [
            "Step 1 Loss 3.3522875 Accuracy 0.0625\n",
            "Step 200 Loss 2.1302328 Accuracy 0.265625\n",
            "Step 400 Loss 1.965358 Accuracy 0.4140625\n",
            "Step 600 Loss 1.8396318 Accuracy 0.3828125\n",
            "Step 800 Loss 1.7529037 Accuracy 0.3984375\n",
            "Step 1000 Loss 1.5133581 Accuracy 0.5546875\n",
            "Step 1200 Loss 1.4889281 Accuracy 0.515625\n",
            "Step 1400 Loss 1.4035927 Accuracy 0.5390625\n",
            "Step 1600 Loss 1.292522 Accuracy 0.6328125\n",
            "Step 1800 Loss 1.2392797 Accuracy 0.640625\n",
            "Step 2000 Loss 1.1576811 Accuracy 0.65625\n",
            "Step 2200 Loss 1.1220514 Accuracy 0.6796875\n",
            "Step 2400 Loss 1.1242509 Accuracy 0.6796875\n",
            "Step 2600 Loss 1.1762081 Accuracy 0.59375\n",
            "Step 2800 Loss 1.0060598 Accuracy 0.703125\n",
            "Step 3000 Loss 1.0705297 Accuracy 0.65625\n",
            "Step 3200 Loss 0.9471547 Accuracy 0.6796875\n",
            "Step 3400 Loss 0.940985 Accuracy 0.6796875\n",
            "Step 3600 Loss 1.013755 Accuracy 0.703125\n",
            "Step 3800 Loss 0.9831662 Accuracy 0.6875\n",
            "Step 4000 Loss 0.77612543 Accuracy 0.7734375\n",
            "Step 4200 Loss 0.88715106 Accuracy 0.6875\n",
            "Step 4400 Loss 0.84057367 Accuracy 0.7265625\n",
            "Step 4600 Loss 0.84782094 Accuracy 0.765625\n",
            "Step 4800 Loss 0.817311 Accuracy 0.71875\n",
            "Step 5000 Loss 0.9184861 Accuracy 0.6953125\n",
            "Step 5200 Loss 0.7742803 Accuracy 0.765625\n",
            "Step 5400 Loss 0.73834705 Accuracy 0.75\n",
            "Step 5600 Loss 0.621612 Accuracy 0.8046875\n",
            "Step 5800 Loss 0.55889 Accuracy 0.8515625\n",
            "Step 6000 Loss 0.57041496 Accuracy 0.8046875\n",
            "Step 6200 Loss 0.5645554 Accuracy 0.8359375\n",
            "Step 6400 Loss 0.5681816 Accuracy 0.875\n",
            "Step 6600 Loss 0.61208504 Accuracy 0.796875\n",
            "Step 6800 Loss 0.6128468 Accuracy 0.78125\n",
            "Step 7000 Loss 0.57311815 Accuracy 0.8203125\n",
            "Step 7200 Loss 0.5789198 Accuracy 0.8359375\n",
            "Step 7400 Loss 0.5917892 Accuracy 0.84375\n",
            "Step 7600 Loss 0.51062685 Accuracy 0.859375\n",
            "Step 7800 Loss 0.41220683 Accuracy 0.8828125\n",
            "Step 8000 Loss 0.53176975 Accuracy 0.8203125\n",
            "Step 8200 Loss 0.5984203 Accuracy 0.8359375\n",
            "Step 8400 Loss 0.39347696 Accuracy 0.875\n",
            "Step 8600 Loss 0.3797999 Accuracy 0.875\n",
            "Step 8800 Loss 0.4551031 Accuracy 0.8515625\n",
            "Step 9000 Loss 0.3818493 Accuracy 0.859375\n",
            "Step 9200 Loss 0.37707996 Accuracy 0.90625\n",
            "Step 9400 Loss 0.66288114 Accuracy 0.7578125\n",
            "Step 9600 Loss 0.46973014 Accuracy 0.8046875\n",
            "Step 9800 Loss 0.523314 Accuracy 0.8359375\n",
            "Step 10000 Loss 0.32879612 Accuracy 0.9140625\n",
            "Optimization finished\n",
            "Test Accuracy 0.890625\n"
          ],
          "name": "stdout"
        }
      ]
    }
  ]
}