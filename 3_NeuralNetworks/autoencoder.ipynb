{
  "nbformat": 4,
  "nbformat_minor": 0,
  "metadata": {
    "colab": {
      "name": "autoencoder.ipynb",
      "version": "0.3.2",
      "provenance": [],
      "collapsed_sections": []
    },
    "kernelspec": {
      "name": "python2",
      "display_name": "Python 2"
    },
    "accelerator": "GPU"
  },
  "cells": [
    {
      "cell_type": "markdown",
      "metadata": {
        "id": "slgpIS_pZ7Ly",
        "colab_type": "text"
      },
      "source": [
        "Build a 2 layers auto-encoder with TensorFlow to compress images to a lower latent space and then reconstruct them\n",
        "\n",
        "References:\n",
        "*   Gradient-based learning applied to document recognition. Y. LeCun, L. Bottou, Y. Bengio, and P. Haffner. Proceedings of the IEEE, 86(11):2278-2324, November 1998.\n",
        "\n"
      ]
    },
    {
      "cell_type": "code",
      "metadata": {
        "id": "JYyiC-NEZ0co",
        "colab_type": "code",
        "colab": {}
      },
      "source": [
        "from __future__ import division, print_function, absolute_import\n",
        "\n",
        "import tensorflow as tf\n",
        "import numpy as np\n",
        "import matplotlib.pyplot as plt"
      ],
      "execution_count": 0,
      "outputs": []
    },
    {
      "cell_type": "code",
      "metadata": {
        "id": "zGPzUpb3aW1z",
        "colab_type": "code",
        "colab": {
          "base_uri": "https://localhost:8080/",
          "height": 444
        },
        "outputId": "a5d0e831-e478-4402-fb97-0a7f77ed7033"
      },
      "source": [
        "# Import MNIST data\n",
        "from tensorflow.examples.tutorials.mnist import input_data\n",
        "mnist = input_data.read_data_sets(\"/tmp/data\", one_hot=True)"
      ],
      "execution_count": 3,
      "outputs": [
        {
          "output_type": "stream",
          "text": [
            "WARNING: Logging before flag parsing goes to stderr.\n",
            "W0815 22:33:36.623011 139958419101568 deprecation.py:323] From <ipython-input-3-3033b8b99067>:2: read_data_sets (from tensorflow.contrib.learn.python.learn.datasets.mnist) is deprecated and will be removed in a future version.\n",
            "Instructions for updating:\n",
            "Please use alternatives such as official/mnist/dataset.py from tensorflow/models.\n",
            "W0815 22:33:36.626178 139958419101568 deprecation.py:323] From /usr/local/lib/python2.7/dist-packages/tensorflow/contrib/learn/python/learn/datasets/mnist.py:260: maybe_download (from tensorflow.contrib.learn.python.learn.datasets.base) is deprecated and will be removed in a future version.\n",
            "Instructions for updating:\n",
            "Please write your own downloading logic.\n",
            "W0815 22:33:36.629862 139958419101568 deprecation.py:323] From /usr/local/lib/python2.7/dist-packages/tensorflow/contrib/learn/python/learn/datasets/mnist.py:262: extract_images (from tensorflow.contrib.learn.python.learn.datasets.mnist) is deprecated and will be removed in a future version.\n",
            "Instructions for updating:\n",
            "Please use tf.data to implement this functionality.\n"
          ],
          "name": "stderr"
        },
        {
          "output_type": "stream",
          "text": [
            "Extracting /tmp/data/train-images-idx3-ubyte.gz\n"
          ],
          "name": "stdout"
        },
        {
          "output_type": "stream",
          "text": [
            "W0815 22:33:36.957808 139958419101568 deprecation.py:323] From /usr/local/lib/python2.7/dist-packages/tensorflow/contrib/learn/python/learn/datasets/mnist.py:267: extract_labels (from tensorflow.contrib.learn.python.learn.datasets.mnist) is deprecated and will be removed in a future version.\n",
            "Instructions for updating:\n",
            "Please use tf.data to implement this functionality.\n",
            "W0815 22:33:36.961057 139958419101568 deprecation.py:323] From /usr/local/lib/python2.7/dist-packages/tensorflow/contrib/learn/python/learn/datasets/mnist.py:110: dense_to_one_hot (from tensorflow.contrib.learn.python.learn.datasets.mnist) is deprecated and will be removed in a future version.\n",
            "Instructions for updating:\n",
            "Please use tf.one_hot on tensors.\n",
            "W0815 22:33:37.021481 139958419101568 deprecation.py:323] From /usr/local/lib/python2.7/dist-packages/tensorflow/contrib/learn/python/learn/datasets/mnist.py:290: __init__ (from tensorflow.contrib.learn.python.learn.datasets.mnist) is deprecated and will be removed in a future version.\n",
            "Instructions for updating:\n",
            "Please use alternatives such as official/mnist/dataset.py from tensorflow/models.\n"
          ],
          "name": "stderr"
        },
        {
          "output_type": "stream",
          "text": [
            "Extracting /tmp/data/train-labels-idx1-ubyte.gz\n",
            "Extracting /tmp/data/t10k-images-idx3-ubyte.gz\n",
            "Extracting /tmp/data/t10k-labels-idx1-ubyte.gz\n"
          ],
          "name": "stdout"
        }
      ]
    },
    {
      "cell_type": "code",
      "metadata": {
        "id": "DesVZQTKakkg",
        "colab_type": "code",
        "colab": {}
      },
      "source": [
        "# Training parameters\n",
        "learning_rate = 0.01\n",
        "num_steps = 30000\n",
        "batch_size = 256\n",
        "\n",
        "display_step = 1000\n",
        "examples_to_show = 10\n",
        "\n",
        "# Network parameters\n",
        "num_hidden_1 = 256 # 1st layer num of features\n",
        "num_hidden_2 = 128 # 2nd layer num of features\n",
        "num_input = 784  # MNIST data input (image shape 28*28)"
      ],
      "execution_count": 0,
      "outputs": []
    },
    {
      "cell_type": "code",
      "metadata": {
        "id": "Z5r5htf9bB8N",
        "colab_type": "code",
        "colab": {}
      },
      "source": [
        "# tf graph\n",
        "X = tf.placeholder(tf.float32, [None, num_input])\n",
        "\n",
        "weights = {\n",
        "    'encoder_h1': tf.Variable(tf.random_normal([num_input, num_hidden_1])),\n",
        "    'encoder_h2': tf.Variable(tf.random_normal([num_hidden_1, num_hidden_2])),\n",
        "    'decoder_h1': tf.Variable(tf.random_normal([num_hidden_2, num_hidden_1])),\n",
        "    'decoder_h2': tf.Variable(tf.random_normal([num_hidden_1, num_input]))\n",
        "}\n",
        "\n",
        "bias = {\n",
        "    'encoder_b1':tf.Variable(tf.random_normal([num_hidden_1])),\n",
        "    'encoder_b2':tf.Variable(tf.random_normal([num_hidden_2])),\n",
        "    'decoder_b1':tf.Variable(tf.random_normal([num_hidden_1])),\n",
        "    'decoder_b2':tf.Variable(tf.random_normal([num_input]))\n",
        "}"
      ],
      "execution_count": 0,
      "outputs": []
    },
    {
      "cell_type": "code",
      "metadata": {
        "id": "6Keqw8DIcJp0",
        "colab_type": "code",
        "colab": {}
      },
      "source": [
        "# build the encoder\n",
        "def encoder(x):\n",
        "  # encode hidden layer with sigmoid activation #1\n",
        "  layer_1 = tf.nn.sigmoid(tf.add(tf.matmul(x, weights['encoder_h1']),\n",
        "                                bias['encoder_b1']))\n",
        "  # encode hidden layer with sigmoid activation #2\n",
        "  layer_2 = tf.nn.sigmoid(tf.add(tf.matmul(layer_1, weights['encoder_h2']),\n",
        "                                bias['encoder_b2']))\n",
        "  return layer_2\n",
        "\n",
        "# build the decoder\n",
        "def decoder(x):\n",
        "  #decode hidden layer with sigmoid activation #1\n",
        "  layer_1 = tf.nn.sigmoid(tf.add(tf.matmul(x, weights['decoder_h1']),\n",
        "                                bias['decoder_b1']))\n",
        "  #decode hidden layer with sigmoid activation #2\n",
        "  layer_2 = tf.nn.sigmoid(tf.add(tf.matmul(layer_1, weights['decoder_h2']),\n",
        "                                bias['decoder_b2']))\n",
        "  return layer_2"
      ],
      "execution_count": 0,
      "outputs": []
    },
    {
      "cell_type": "code",
      "metadata": {
        "id": "FptMJbTFdTLD",
        "colab_type": "code",
        "colab": {}
      },
      "source": [
        "# construct the model\n",
        "encoder_op = encoder(X)\n",
        "decoder_op = decoder(encoder_op)"
      ],
      "execution_count": 0,
      "outputs": []
    },
    {
      "cell_type": "code",
      "metadata": {
        "id": "BA-VUq1bdoMH",
        "colab_type": "code",
        "colab": {
          "base_uri": "https://localhost:8080/",
          "height": 143
        },
        "outputId": "bab5589a-42ea-4575-ad73-46bd0367c3f2"
      },
      "source": [
        "# prediction\n",
        "y_pred = decoder_op\n",
        "\n",
        "# targets are input data\n",
        "y_true = X\n",
        "\n",
        "# define loss and optimizer, minimize squared error\n",
        "loss = tf.reduce_mean(tf.pow(y_true-y_pred, 2))\n",
        "optimizer = tf.train.RMSPropOptimizer(learning_rate).minimize(loss)\n",
        "\n",
        "init = tf.global_variables_initializer()"
      ],
      "execution_count": 14,
      "outputs": [
        {
          "output_type": "stream",
          "text": [
            "W0815 22:49:23.924453 139958419101568 deprecation.py:323] From /usr/local/lib/python2.7/dist-packages/tensorflow/python/ops/math_grad.py:1205: where (from tensorflow.python.ops.array_ops) is deprecated and will be removed in a future version.\n",
            "Instructions for updating:\n",
            "Use tf.where in 2.0, which has the same broadcast rule as np.where\n",
            "W0815 22:49:23.979377 139958419101568 deprecation.py:506] From /usr/local/lib/python2.7/dist-packages/tensorflow/python/training/rmsprop.py:119: calling __init__ (from tensorflow.python.ops.init_ops) with dtype is deprecated and will be removed in a future version.\n",
            "Instructions for updating:\n",
            "Call initializer instance with the dtype argument instead of passing it to the constructor\n"
          ],
          "name": "stderr"
        }
      ]
    },
    {
      "cell_type": "code",
      "metadata": {
        "id": "e4q0UB_OeMF2",
        "colab_type": "code",
        "colab": {
          "base_uri": "https://localhost:8080/",
          "height": 566
        },
        "outputId": "d6e739d3-7b5d-4698-bed5-5801b3c46648"
      },
      "source": [
        "with tf.Session() as sess:\n",
        "  sess.run(init)\n",
        "  \n",
        "  #training\n",
        "  for i in range(1, num_steps+1):\n",
        "    #prepare data\n",
        "    #get batch of mnist data\n",
        "    batch_x, _ = mnist.train.next_batch(batch_size)\n",
        "    \n",
        "    # run optimization and loss op to get cost value\n",
        "    _, l = sess.run([optimizer, loss], feed_dict = {X:batch_x})\n",
        "    # display logs per step\n",
        "    if (i% display_step ==0 or i==1):\n",
        "      print(\"Steps\",i, \"Loss\", l)\n",
        "      \n",
        "    # Testing\n",
        "  # encode and decode images from test set and visualize reconstruction\n",
        "  n=4\n",
        "  canvas_orig = np.empty((28*n, 28*n))\n",
        "  canvas_recon = np.empty((28*n, 28*n))\n",
        "\n",
        "  for i in range(n):\n",
        "    # MNIST test data\n",
        "    batch_x, _ = mnist.test.next_batch(n)\n",
        "\n",
        "    #encode and decode digital image\n",
        "    g = sess.run(decoder_op, feed_dict={X:batch_x})\n",
        "\n",
        "    #display original images\n",
        "    for j in range(n):\n",
        "      # draw generated digits\n",
        "      canvas_orig[i*28:(i+1)*28, j*28:(j+1)*28]=batch_x[j].reshape(28,28)\n",
        "\n",
        "    #display reconstructed images\n",
        "    for j in range(n):\n",
        "      #draw generated digts\n",
        "      canvas_recon[i*28:(i+1)*28, j*28:(j+1)*28]=batch_x[j].reshape(28,28)"
      ],
      "execution_count": 20,
      "outputs": [
        {
          "output_type": "stream",
          "text": [
            "Steps 1 Loss 0.45192516\n",
            "Steps 1000 Loss 0.15170026\n",
            "Steps 2000 Loss 0.13365683\n",
            "Steps 3000 Loss 0.117610075\n",
            "Steps 4000 Loss 0.1100399\n",
            "Steps 5000 Loss 0.10858678\n",
            "Steps 6000 Loss 0.10298723\n",
            "Steps 7000 Loss 0.09911538\n",
            "Steps 8000 Loss 0.096474975\n",
            "Steps 9000 Loss 0.09334049\n",
            "Steps 10000 Loss 0.091672294\n",
            "Steps 11000 Loss 0.088520184\n",
            "Steps 12000 Loss 0.08851147\n",
            "Steps 13000 Loss 0.08958256\n",
            "Steps 14000 Loss 0.08584206\n",
            "Steps 15000 Loss 0.083057225\n",
            "Steps 16000 Loss 0.083188176\n",
            "Steps 17000 Loss 0.0786515\n",
            "Steps 18000 Loss 0.0783022\n",
            "Steps 19000 Loss 0.07865511\n",
            "Steps 20000 Loss 0.07556483\n",
            "Steps 21000 Loss 0.075788766\n",
            "Steps 22000 Loss 0.07440791\n",
            "Steps 23000 Loss 0.072267406\n",
            "Steps 24000 Loss 0.07315419\n",
            "Steps 25000 Loss 0.071770154\n",
            "Steps 26000 Loss 0.07176898\n",
            "Steps 27000 Loss 0.072043255\n",
            "Steps 28000 Loss 0.06946285\n",
            "Steps 29000 Loss 0.06769971\n",
            "Steps 30000 Loss 0.065819874\n"
          ],
          "name": "stdout"
        }
      ]
    },
    {
      "cell_type": "code",
      "metadata": {
        "id": "9rOjIGLRgtXA",
        "colab_type": "code",
        "colab": {
          "base_uri": "https://localhost:8080/",
          "height": 556
        },
        "outputId": "5523b543-4152-4ed4-ba5a-606605d95858"
      },
      "source": [
        "print(\"original images\")\n",
        "plt.figure(figsize=(n,n))\n",
        "plt.imshow(canvas_orig, origin=\"upper\", cmap=\"gray\")\n",
        "plt.show()\n",
        "\n",
        "print(\"Reconstructed images\")\n",
        "plt.figure(figsize=(n,n))\n",
        "plt.imshow(canvas_recon, origin=\"upper\",cmap=\"gray\")\n",
        "plt.show()"
      ],
      "execution_count": 21,
      "outputs": [
        {
          "output_type": "stream",
          "text": [
            "original images\n"
          ],
          "name": "stdout"
        },
        {
          "output_type": "display_data",
          "data": {
            "image/png": "[encoded data removed]",
            "text/plain": [
              "<Figure size 288x288 with 1 Axes>"
            ]
          },
          "metadata": {
            "tags": []
          }
        },
        {
          "output_type": "stream",
          "text": [
            "Reconstructed images\n"
          ],
          "name": "stdout"
        },
        {
          "output_type": "display_data",
          "data": {
            "image/png": "[encoded data removed]",
            "text/plain": [
              "<Figure size 288x288 with 1 Axes>"
            ]
          },
          "metadata": {
            "tags": []
          }
        }
      ]
    }
  ]
}