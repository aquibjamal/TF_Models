{
  "nbformat": 4,
  "nbformat_minor": 0,
  "metadata": {
    "colab": {
      "name": "Untitled1.ipynb",
      "version": "0.3.2",
      "provenance": []
    },
    "kernelspec": {
      "name": "python2",
      "display_name": "Python 2"
    },
    "accelerator": "GPU"
  },
  "cells": [
    {
      "cell_type": "code",
      "metadata": {
        "id": "xAzO4sDk0z3Z",
        "colab_type": "code",
        "colab": {}
      },
      "source": [
        "from __future__ import print_function, division, absolute_import\n",
        "\n",
        "import matplotlib.pyplot as plt\n",
        "import numpy as np\n",
        "import tensorflow as tf"
      ],
      "execution_count": 0,
      "outputs": []
    },
    {
      "cell_type": "code",
      "metadata": {
        "id": "rpStoTx20_ZM",
        "colab_type": "code",
        "colab": {
          "base_uri": "https://localhost:8080/",
          "height": 176
        },
        "outputId": "6c20f1bf-3c1b-4d7a-9ddc-9a8d97689647"
      },
      "source": [
        "# set eager api\n",
        "tf.enable_eager_execution()\n",
        "tfe=tf.contrib.eager"
      ],
      "execution_count": 2,
      "outputs": [
        {
          "output_type": "stream",
          "text": [
            "WARNING: Logging before flag parsing goes to stderr.\n",
            "W0810 18:51:51.828624 139979776878464 lazy_loader.py:50] \n",
            "The TensorFlow contrib module will not be included in TensorFlow 2.0.\n",
            "For more information, please see:\n",
            "  * https://github.com/tensorflow/community/blob/master/rfcs/20180907-contrib-sunset.md\n",
            "  * https://github.com/tensorflow/addons\n",
            "  * https://github.com/tensorflow/io (for I/O related ops)\n",
            "If you depend on functionality not listed there, please file an issue.\n",
            "\n"
          ],
          "name": "stderr"
        }
      ]
    },
    {
      "cell_type": "code",
      "metadata": {
        "id": "zfWGabxp1Ip1",
        "colab_type": "code",
        "colab": {}
      },
      "source": [
        "# Training Data\n",
        "train_X = [3.3, 4.4, 5.5, 6.71, 6.93, 4.168, 9.779, 6.182, 7.59, 2.167,\n",
        "           7.042, 10.791, 5.313, 7.997, 5.654, 9.27, 3.1]\n",
        "train_Y = [1.7, 2.76, 2.09, 3.19, 1.694, 1.573, 3.366, 2.596, 2.53, 1.221,\n",
        "           2.827, 3.465, 1.65, 2.904, 2.42, 2.94, 1.3]\n",
        "n_samples = len(train_X)\n",
        "\n",
        "# Parameters\n",
        "learning_rate = 0.01\n",
        "display_step = 100\n",
        "num_steps = 1000"
      ],
      "execution_count": 0,
      "outputs": []
    },
    {
      "cell_type": "code",
      "metadata": {
        "id": "ZSalgBwT1LLk",
        "colab_type": "code",
        "colab": {}
      },
      "source": [
        "# weight and bias\n",
        "W=tfe.Variable(np.random.randn())\n",
        "b=tfe.Variable(np.random.randn())\n",
        "\n",
        "# define linear regression\n",
        "def linear_regression(inputs):\n",
        "  return inputs*W+b\n",
        "\n",
        "# define mse\n",
        "def mean_square_fn(model_fn, inputs, labels):\n",
        "  return tf.reduce_sum(tf.pow(model_fn(inputs)-labels,2))/(2*n_samples)"
      ],
      "execution_count": 0,
      "outputs": []
    },
    {
      "cell_type": "code",
      "metadata": {
        "id": "OL6-V_Bd1LRU",
        "colab_type": "code",
        "colab": {}
      },
      "source": [
        "# sgd optimizer\n",
        "\n",
        "optimizer=tf.train.GradientDescentOptimizer(learning_rate=learning_rate)\n",
        "\n",
        "# compute gradients\n",
        "grad=tfe.implicit_gradients(mean_square_fn)"
      ],
      "execution_count": 0,
      "outputs": []
    },
    {
      "cell_type": "code",
      "metadata": {
        "id": "LebL9o632Hf5",
        "colab_type": "code",
        "colab": {
          "base_uri": "https://localhost:8080/",
          "height": 35
        },
        "outputId": "53e47f35-7501-455c-e751-7538ce941f81"
      },
      "source": [
        "# initialize cost before optimizing\n",
        "print(\"initial cost %f\"%(mean_square_fn(linear_regression, train_X, train_Y)), \n",
        "     \"W\", W.numpy(), \"B\",b.numpy())"
      ],
      "execution_count": 6,
      "outputs": [
        {
          "output_type": "stream",
          "text": [
            "initial cost 8.195670 W 0.028711407 B -1.8082391\n"
          ],
          "name": "stdout"
        }
      ]
    },
    {
      "cell_type": "code",
      "metadata": {
        "id": "BQvSdK1u2fem",
        "colab_type": "code",
        "colab": {
          "base_uri": "https://localhost:8080/",
          "height": 537
        },
        "outputId": "91d736fb-e945-4561-cd7d-67ca136c4052"
      },
      "source": [
        "# training\n",
        "for step in range(num_steps):\n",
        "  optimizer.apply_gradients(grad(linear_regression, train_X, train_Y))\n",
        "  \n",
        "  if (step+1)%display_step==0 or step==0:\n",
        "    print(\"Epoch %i\"%(step+1), \"cost %f\"%mean_square_fn(linear_regression, train_X, train_Y),\n",
        "         \"W\", W.numpy(), \"B\",b.numpy())\n",
        "    \n",
        "plt.plot(train_X, train_Y, 'ro', label=\"Original data\")\n",
        "plt.plot(train_X, np.array(W*train_X+b), label=\"Fitted line\")\n",
        "plt.legend()\n",
        "plt.show()"
      ],
      "execution_count": 7,
      "outputs": [
        {
          "output_type": "stream",
          "text": [
            "W0810 18:51:55.077224 139979776878464 deprecation.py:323] From /usr/local/lib/python2.7/dist-packages/tensorflow/python/ops/math_grad.py:1205: where (from tensorflow.python.ops.array_ops) is deprecated and will be removed in a future version.\n",
            "Instructions for updating:\n",
            "Use tf.where in 2.0, which has the same broadcast rule as np.where\n"
          ],
          "name": "stderr"
        },
        {
          "output_type": "stream",
          "text": [
            "Epoch 1 cost 2.793589 W 0.28981936 B -1.7682828\n",
            "Epoch 100 cost 0.386551 W 0.56710297 B -1.4377252\n",
            "Epoch 200 cost 0.319777 W 0.53102267 B -1.1819323\n",
            "Epoch 300 cost 0.267405 W 0.499069 B -0.955395\n",
            "Epoch 400 cost 0.226326 W 0.47076985 B -0.7547667\n",
            "Epoch 500 cost 0.194107 W 0.4457073 B -0.5770844\n",
            "Epoch 600 cost 0.168837 W 0.42351112 B -0.41972363\n",
            "Epoch 700 cost 0.149016 W 0.40385357 B -0.28036022\n",
            "Epoch 800 cost 0.133469 W 0.38644424 B -0.15693606\n",
            "Epoch 900 cost 0.121276 W 0.37102604 B -0.047627922\n",
            "Epoch 1000 cost 0.111712 W 0.3573712 B 0.049178604\n"
          ],
          "name": "stdout"
        },
        {
          "output_type": "display_data",
          "data": {
            "image/png": "[encoded data removed]",
            "text/plain": [
              "<Figure size 432x288 with 1 Axes>"
            ]
          },
          "metadata": {
            "tags": []
          }
        }
      ]
    }
  ]
}