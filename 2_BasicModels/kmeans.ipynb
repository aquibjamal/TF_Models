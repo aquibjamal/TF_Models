{
  "nbformat": 4,
  "nbformat_minor": 0,
  "metadata": {
    "colab": {
      "name": "kmeans.ipynb",
      "version": "0.3.2",
      "provenance": [],
      "collapsed_sections": []
    },
    "kernelspec": {
      "name": "python2",
      "display_name": "Python 2"
    },
    "accelerator": "GPU"
  },
  "cells": [
    {
      "cell_type": "code",
      "metadata": {
        "id": "qjXuPJtVxGMQ",
        "colab_type": "code",
        "colab": {}
      },
      "source": [
        "# implement kmeans to classify mnist digits\n",
        "\n",
        "from __future__ import print_function\n",
        "\n",
        "import numpy as np\n",
        "import tensorflow as tf\n",
        "from tensorflow.contrib.factorization import KMeans\n",
        "\n",
        "import os\n",
        "from tensorflow.examples.tutorials.mnist import input_data"
      ],
      "execution_count": 0,
      "outputs": []
    },
    {
      "cell_type": "code",
      "metadata": {
        "id": "J0hfqZ6Rxf-b",
        "colab_type": "code",
        "colab": {
          "base_uri": "https://localhost:8080/",
          "height": 568
        },
        "outputId": "4c591f1f-3220-4439-8d03-4e1eeffd3e96"
      },
      "source": [
        "mnist=input_data.read_data_sets(\"/tmp/data/\", one_hot=True)\n",
        "full_data_x=mnist.train.images"
      ],
      "execution_count": 2,
      "outputs": [
        {
          "output_type": "stream",
          "text": [
            "WARNING: Logging before flag parsing goes to stderr.\n",
            "W0810 14:21:53.664062 140178678978432 deprecation.py:323] From <ipython-input-2-07b4fdc0ea89>:1: read_data_sets (from tensorflow.contrib.learn.python.learn.datasets.mnist) is deprecated and will be removed in a future version.\n",
            "Instructions for updating:\n",
            "Please use alternatives such as official/mnist/dataset.py from tensorflow/models.\n",
            "W0810 14:21:53.669245 140178678978432 deprecation.py:323] From /usr/local/lib/python2.7/dist-packages/tensorflow/contrib/learn/python/learn/datasets/mnist.py:260: maybe_download (from tensorflow.contrib.learn.python.learn.datasets.base) is deprecated and will be removed in a future version.\n",
            "Instructions for updating:\n",
            "Please write your own downloading logic.\n",
            "W0810 14:21:53.670386 140178678978432 deprecation.py:323] From /usr/local/lib/python2.7/dist-packages/tensorflow/contrib/learn/python/learn/datasets/base.py:252: wrapped_fn (from tensorflow.contrib.learn.python.learn.datasets.base) is deprecated and will be removed in a future version.\n",
            "Instructions for updating:\n",
            "Please use urllib or similar directly.\n",
            "W0810 14:21:54.275922 140178678978432 deprecation.py:323] From /usr/local/lib/python2.7/dist-packages/tensorflow/contrib/learn/python/learn/datasets/mnist.py:262: extract_images (from tensorflow.contrib.learn.python.learn.datasets.mnist) is deprecated and will be removed in a future version.\n",
            "Instructions for updating:\n",
            "Please use tf.data to implement this functionality.\n"
          ],
          "name": "stderr"
        },
        {
          "output_type": "stream",
          "text": [
            "Successfully downloaded train-images-idx3-ubyte.gz 9912422 bytes.\n",
            "Extracting /tmp/data/train-images-idx3-ubyte.gz\n"
          ],
          "name": "stdout"
        },
        {
          "output_type": "stream",
          "text": [
            "W0810 14:21:54.727560 140178678978432 deprecation.py:323] From /usr/local/lib/python2.7/dist-packages/tensorflow/contrib/learn/python/learn/datasets/mnist.py:267: extract_labels (from tensorflow.contrib.learn.python.learn.datasets.mnist) is deprecated and will be removed in a future version.\n",
            "Instructions for updating:\n",
            "Please use tf.data to implement this functionality.\n",
            "W0810 14:21:54.731457 140178678978432 deprecation.py:323] From /usr/local/lib/python2.7/dist-packages/tensorflow/contrib/learn/python/learn/datasets/mnist.py:110: dense_to_one_hot (from tensorflow.contrib.learn.python.learn.datasets.mnist) is deprecated and will be removed in a future version.\n",
            "Instructions for updating:\n",
            "Please use tf.one_hot on tensors.\n"
          ],
          "name": "stderr"
        },
        {
          "output_type": "stream",
          "text": [
            "Successfully downloaded train-labels-idx1-ubyte.gz 28881 bytes.\n",
            "Extracting /tmp/data/train-labels-idx1-ubyte.gz\n",
            "Successfully downloaded t10k-images-idx3-ubyte.gz 1648877 bytes.\n",
            "Extracting /tmp/data/t10k-images-idx3-ubyte.gz\n"
          ],
          "name": "stdout"
        },
        {
          "output_type": "stream",
          "text": [
            "W0810 14:21:55.147274 140178678978432 deprecation.py:323] From /usr/local/lib/python2.7/dist-packages/tensorflow/contrib/learn/python/learn/datasets/mnist.py:290: __init__ (from tensorflow.contrib.learn.python.learn.datasets.mnist) is deprecated and will be removed in a future version.\n",
            "Instructions for updating:\n",
            "Please use alternatives such as official/mnist/dataset.py from tensorflow/models.\n"
          ],
          "name": "stderr"
        },
        {
          "output_type": "stream",
          "text": [
            "Successfully downloaded t10k-labels-idx1-ubyte.gz 4542 bytes.\n",
            "Extracting /tmp/data/t10k-labels-idx1-ubyte.gz\n"
          ],
          "name": "stdout"
        }
      ]
    },
    {
      "cell_type": "code",
      "metadata": {
        "id": "RjpjoLiDx1mx",
        "colab_type": "code",
        "colab": {}
      },
      "source": [
        "# parameters\n",
        "# total steps to train\n",
        "num_steps=150\n",
        "# number of samples per batch\n",
        "batch_size=1024\n",
        "# number of clusters\n",
        "k=25\n",
        "# the 10 digits\n",
        "num_classes=10\n",
        "# each image is 28x28 = 784 pixels\n",
        "num_features=784\n",
        "\n",
        "# input images\n",
        "X=tf.placeholder(tf.float32, shape=[None, num_features])\n",
        "# labels\n",
        "Y=tf.placeholder(tf.float32, shape=[None, num_classes])\n",
        "\n",
        "# K-means parameters\n",
        "kmeans=KMeans(inputs=X, num_clusters=k, distance_metric='cosine', use_mini_batch=True)"
      ],
      "execution_count": 0,
      "outputs": []
    },
    {
      "cell_type": "code",
      "metadata": {
        "id": "CWp-MaCdytN2",
        "colab_type": "code",
        "colab": {
          "base_uri": "https://localhost:8080/",
          "height": 90
        },
        "outputId": "310b3b50-61f1-4544-accb-bef590b6361d"
      },
      "source": [
        "# build kmeans graph\n",
        "all_scores, cluster_idx, scores,  cluster_centers_initialized, init_op, train_op=kmeans.training_graph()\n",
        "\n",
        "# fix for cluster index being a tuple\n",
        "cluster_idx=cluster_idx[0]\n",
        "\n",
        "avg_distance=tf.reduce_mean(scores)\n",
        "\n",
        "# Initialize variables( i.e assign default values)\n",
        "\n",
        "init_vars=tf.global_variables_initializer()"
      ],
      "execution_count": 4,
      "outputs": [
        {
          "output_type": "stream",
          "text": [
            "W0810 14:21:55.470135 140178678978432 deprecation.py:506] From /usr/local/lib/python2.7/dist-packages/tensorflow/contrib/factorization/python/ops/clustering_ops.py:740: calling l2_normalize (from tensorflow.python.ops.nn_impl) with dim is deprecated and will be removed in a future version.\n",
            "Instructions for updating:\n",
            "dim is deprecated, use axis instead\n"
          ],
          "name": "stderr"
        }
      ]
    },
    {
      "cell_type": "code",
      "metadata": {
        "id": "NwQlkpxN4qb-",
        "colab_type": "code",
        "colab": {
          "base_uri": "https://localhost:8080/",
          "height": 318
        },
        "outputId": "dd3f580e-7cac-4b70-951b-938413cb2664"
      },
      "source": [
        "# start tf session\n",
        "with tf.Session() as sess:\n",
        "  sess.run(init_vars, feed_dict={X:full_data_x})\n",
        "  sess.run(init_op, feed_dict={X:full_data_x})\n",
        "  \n",
        "  for i in range(1, num_steps+1):\n",
        "    _,d,idx=sess.run([train_op, avg_distance, cluster_idx], feed_dict={X:full_data_x})\n",
        "    \n",
        "    if i%10==0 or i==1:\n",
        "      print(\"Steps %i, Avg distances:%f\"%(i,d))\n",
        "      \n",
        "    # assign label to each centroid\n",
        "\n",
        "  # count total number of labels per centroid using label of each training sample\n",
        "  # to their closest centroid\n",
        "  count=np.zeros(shape=(k,num_classes))\n",
        "\n",
        "  for i in range(len(idx)):\n",
        "    count[idx[i]]+=mnist.train.labels[i]\n",
        "\n",
        "  # assign most frequent label to centroid\n",
        "  labels_map=[np.argmax(c) for c in count]\n",
        "  labels_map=tf.convert_to_tensor(labels_map)\n",
        "\n",
        "  # evaluation ops\n",
        "  # lookup: centroid id -> label\n",
        "  cluster_label=tf.nn.embedding_lookup(labels_map,cluster_idx)\n",
        "\n",
        "  # compute accuracy\n",
        "  correct_prediction=tf.equal(cluster_label, tf.cast(tf.argmax(Y,1), tf.int32))\n",
        "  accuracy_op=tf.reduce_mean(tf.cast(correct_prediction, tf.float32))\n",
        "\n",
        "  test_x, test_y=mnist.test.images, mnist.test.labels\n",
        "  print(\"Test accuracy:\",sess.run(accuracy_op,feed_dict={X:test_x, Y:test_y}))"
      ],
      "execution_count": 12,
      "outputs": [
        {
          "output_type": "stream",
          "text": [
            "Steps 1, Avg distances:0.341471\n",
            "Steps 10, Avg distances:0.221609\n",
            "Steps 20, Avg distances:0.220328\n",
            "Steps 30, Avg distances:0.219776\n",
            "Steps 40, Avg distances:0.219419\n",
            "Steps 50, Avg distances:0.219154\n",
            "Steps 60, Avg distances:0.218940\n",
            "Steps 70, Avg distances:0.218764\n",
            "Steps 80, Avg distances:0.218614\n",
            "Steps 90, Avg distances:0.218485\n",
            "Steps 100, Avg distances:0.218373\n",
            "Steps 110, Avg distances:0.218276\n",
            "Steps 120, Avg distances:0.218190\n",
            "Steps 130, Avg distances:0.218113\n",
            "Steps 140, Avg distances:0.218043\n",
            "Steps 150, Avg distances:0.217978\n",
            "Test accuracy: 0.7315\n"
          ],
          "name": "stdout"
        }
      ]
    }
  ]
}