{
  "nbformat": 4,
  "nbformat_minor": 0,
  "metadata": {
    "colab": {
      "name": "logistic_regression.ipynb",
      "version": "0.3.2",
      "provenance": [],
      "collapsed_sections": []
    },
    "kernelspec": {
      "name": "python2",
      "display_name": "Python 2"
    },
    "accelerator": "GPU"
  },
  "cells": [
    {
      "cell_type": "code",
      "metadata": {
        "id": "W2X0jm4u0qi2",
        "colab_type": "code",
        "colab": {
          "base_uri": "https://localhost:8080/",
          "height": 568
        },
        "outputId": "aa581851-4014-48ea-c342-e8c381449c8a"
      },
      "source": [
        "# Logistic Regression on MNIST Dataset\n",
        "\n",
        "import tensorflow as tf\n",
        "\n",
        "# Import MNIST dataset\n",
        "from tensorflow.examples.tutorials.mnist import input_data\n",
        "mnist = input_data.read_data_sets(\"/tmp/data\", one_hot=True)"
      ],
      "execution_count": 2,
      "outputs": [
        {
          "output_type": "stream",
          "text": [
            "WARNING: Logging before flag parsing goes to stderr.\n",
            "W0815 13:01:48.572916 139849700018048 deprecation.py:323] From <ipython-input-2-2270d9d85f3f>:6: read_data_sets (from tensorflow.contrib.learn.python.learn.datasets.mnist) is deprecated and will be removed in a future version.\n",
            "Instructions for updating:\n",
            "Please use alternatives such as official/mnist/dataset.py from tensorflow/models.\n",
            "W0815 13:01:48.574908 139849700018048 deprecation.py:323] From /usr/local/lib/python2.7/dist-packages/tensorflow/contrib/learn/python/learn/datasets/mnist.py:260: maybe_download (from tensorflow.contrib.learn.python.learn.datasets.base) is deprecated and will be removed in a future version.\n",
            "Instructions for updating:\n",
            "Please write your own downloading logic.\n",
            "W0815 13:01:48.580497 139849700018048 deprecation.py:323] From /usr/local/lib/python2.7/dist-packages/tensorflow/contrib/learn/python/learn/datasets/base.py:252: wrapped_fn (from tensorflow.contrib.learn.python.learn.datasets.base) is deprecated and will be removed in a future version.\n",
            "Instructions for updating:\n",
            "Please use urllib or similar directly.\n",
            "W0815 13:01:49.201236 139849700018048 deprecation.py:323] From /usr/local/lib/python2.7/dist-packages/tensorflow/contrib/learn/python/learn/datasets/mnist.py:262: extract_images (from tensorflow.contrib.learn.python.learn.datasets.mnist) is deprecated and will be removed in a future version.\n",
            "Instructions for updating:\n",
            "Please use tf.data to implement this functionality.\n"
          ],
          "name": "stderr"
        },
        {
          "output_type": "stream",
          "text": [
            "Successfully downloaded train-images-idx3-ubyte.gz 9912422 bytes.\n",
            "Extracting /tmp/data/train-images-idx3-ubyte.gz\n"
          ],
          "name": "stdout"
        },
        {
          "output_type": "stream",
          "text": [
            "W0815 13:01:49.795439 139849700018048 deprecation.py:323] From /usr/local/lib/python2.7/dist-packages/tensorflow/contrib/learn/python/learn/datasets/mnist.py:267: extract_labels (from tensorflow.contrib.learn.python.learn.datasets.mnist) is deprecated and will be removed in a future version.\n",
            "Instructions for updating:\n",
            "Please use tf.data to implement this functionality.\n",
            "W0815 13:01:49.800909 139849700018048 deprecation.py:323] From /usr/local/lib/python2.7/dist-packages/tensorflow/contrib/learn/python/learn/datasets/mnist.py:110: dense_to_one_hot (from tensorflow.contrib.learn.python.learn.datasets.mnist) is deprecated and will be removed in a future version.\n",
            "Instructions for updating:\n",
            "Please use tf.one_hot on tensors.\n"
          ],
          "name": "stderr"
        },
        {
          "output_type": "stream",
          "text": [
            "Successfully downloaded train-labels-idx1-ubyte.gz 28881 bytes.\n",
            "Extracting /tmp/data/train-labels-idx1-ubyte.gz\n",
            "Successfully downloaded t10k-images-idx3-ubyte.gz 1648877 bytes.\n",
            "Extracting /tmp/data/t10k-images-idx3-ubyte.gz\n"
          ],
          "name": "stdout"
        },
        {
          "output_type": "stream",
          "text": [
            "W0815 13:01:50.322107 139849700018048 deprecation.py:323] From /usr/local/lib/python2.7/dist-packages/tensorflow/contrib/learn/python/learn/datasets/mnist.py:290: __init__ (from tensorflow.contrib.learn.python.learn.datasets.mnist) is deprecated and will be removed in a future version.\n",
            "Instructions for updating:\n",
            "Please use alternatives such as official/mnist/dataset.py from tensorflow/models.\n"
          ],
          "name": "stderr"
        },
        {
          "output_type": "stream",
          "text": [
            "Successfully downloaded t10k-labels-idx1-ubyte.gz 4542 bytes.\n",
            "Extracting /tmp/data/t10k-labels-idx1-ubyte.gz\n"
          ],
          "name": "stdout"
        }
      ]
    },
    {
      "cell_type": "code",
      "metadata": {
        "id": "f_P-oEOpXtOr",
        "colab_type": "code",
        "colab": {}
      },
      "source": [
        "# Hyper-parameters\n",
        "learning_rate = 0.01\n",
        "training_epochs = 25\n",
        "batch_size = 128\n",
        "display_step = 1"
      ],
      "execution_count": 0,
      "outputs": []
    },
    {
      "cell_type": "code",
      "metadata": {
        "id": "Zikz71DTYA_z",
        "colab_type": "code",
        "colab": {}
      },
      "source": [
        "# tf Graph input \n",
        "x = tf.placeholder(tf.float32, [None, 784]) #mnist image size 28x28 = 784\n",
        "y = tf.placeholder(tf.float32, [None, 10]) # 10 classes for 0-9 digits \n",
        "\n",
        "# set model weights\n",
        "W = tf.Variable(tf.zeros([784,10]))\n",
        "b = tf.Variable(tf.zeros([10]))\n",
        "\n",
        "# Construct the model\n",
        "pred = tf.nn.softmax(tf.matmul(x, W)+b)\n",
        "\n",
        "# Minimize the error using cross-entropy\n",
        "cost = tf.reduce_mean(-tf.reduce_sum(y*tf.log(pred), reduction_indices=1))\n",
        "\n",
        "# Gradient Descent\n",
        "optimizer = tf.train.GradientDescentOptimizer(learning_rate).minimize(cost)\n",
        "\n",
        "# initialize the variables\n",
        "init = tf.global_variables_initializer()\n",
        "               "
      ],
      "execution_count": 0,
      "outputs": []
    },
    {
      "cell_type": "code",
      "metadata": {
        "id": "zBP-vILyZezf",
        "colab_type": "code",
        "colab": {
          "base_uri": "https://localhost:8080/",
          "height": 495
        },
        "outputId": "d72cb3eb-a26e-455f-f481-8085c4a9abea"
      },
      "source": [
        "# start tf session\n",
        "with tf.Session () as sess:\n",
        "  sess.run(init)\n",
        "  total_batch = int(mnist.train.num_examples/batch_size)\n",
        "  # Training cycle\n",
        "  for epoch in range(training_epochs):\n",
        "    avg_cost = 0\n",
        "    \n",
        "    # Loop over all batches\n",
        "    for i in range(total_batch):\n",
        "      batch_xs, batch_ys = mnist.train.next_batch(batch_size)\n",
        "      \n",
        "      # fit training using batch data\n",
        "      _, c = sess.run([optimizer, cost], feed_dict={x:batch_xs,\n",
        "                                                   y: batch_ys})\n",
        "      # compute average cost\n",
        "      avg_cost +=c/total_batch\n",
        "      \n",
        "    # display logs per epoch\n",
        "    if (epoch+1)%display_step ==0:\n",
        "      print(\"Epoch=\",(epoch+1), \"cost=\",avg_cost)\n",
        "    \n",
        "  print(\"Optimization finished !!!\")\n",
        "  \n",
        "  # Test the model\n",
        "  correct_prediction = tf.equal(tf.argmax(pred,1), tf.argmax(y,1))\n",
        "  \n",
        "  # calculate accuracy for 3000 examples\n",
        "  accuracy = tf.reduce_mean(tf.cast(correct_prediction,tf.float32))\n",
        "  \n",
        "  print(\"Accuracy\", accuracy.eval({x:mnist.test.images[:3000],\n",
        "                                  y:mnist.test.labels[:3000]}))\n",
        "      "
      ],
      "execution_count": 9,
      "outputs": [
        {
          "output_type": "stream",
          "text": [
            "('Epoch=', 1, 'cost=', 1.2864639188026215)\n",
            "('Epoch=', 2, 'cost=', 0.7334167878110925)\n",
            "('Epoch=', 3, 'cost=', 0.6004954825192341)\n",
            "('Epoch=', 4, 'cost=', 0.5374739363199071)\n",
            "('Epoch=', 5, 'cost=', 0.4976409070697412)\n",
            "('Epoch=', 6, 'cost=', 0.4734154126166182)\n",
            "('Epoch=', 7, 'cost=', 0.4485603723075842)\n",
            "('Epoch=', 8, 'cost=', 0.43718204992912285)\n",
            "('Epoch=', 9, 'cost=', 0.4228802400452273)\n",
            "('Epoch=', 10, 'cost=', 0.4130421184298597)\n",
            "('Epoch=', 11, 'cost=', 0.40345366330413523)\n",
            "('Epoch=', 12, 'cost=', 0.39911018697531925)\n",
            "('Epoch=', 13, 'cost=', 0.38941094814202704)\n",
            "('Epoch=', 14, 'cost=', 0.38505175317222917)\n",
            "('Epoch=', 15, 'cost=', 0.3793130294356868)\n",
            "('Epoch=', 16, 'cost=', 0.37409657687990816)\n",
            "('Epoch=', 17, 'cost=', 0.370875572581669)\n",
            "('Epoch=', 18, 'cost=', 0.36470218280673317)\n",
            "('Epoch=', 19, 'cost=', 0.3639849600119468)\n",
            "('Epoch=', 20, 'cost=', 0.35943562271711704)\n",
            "('Epoch=', 21, 'cost=', 0.3561005944208107)\n",
            "('Epoch=', 22, 'cost=', 0.3527390080871003)\n",
            "('Epoch=', 23, 'cost=', 0.3533300898083439)\n",
            "('Epoch=', 24, 'cost=', 0.3463929538334998)\n",
            "('Epoch=', 25, 'cost=', 0.3480343283403725)\n",
            "Optimization finished !!!\n",
            "('Accuracy', 0.8843333)\n"
          ],
          "name": "stdout"
        }
      ]
    }
  ]
}