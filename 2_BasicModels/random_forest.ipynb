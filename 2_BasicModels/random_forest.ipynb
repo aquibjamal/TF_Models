{
  "nbformat": 4,
  "nbformat_minor": 0,
  "metadata": {
    "colab": {
      "name": "random_forest.ipynb",
      "version": "0.3.2",
      "provenance": [],
      "collapsed_sections": []
    },
    "kernelspec": {
      "name": "python2",
      "display_name": "Python 2"
    },
    "accelerator": "GPU"
  },
  "cells": [
    {
      "cell_type": "code",
      "metadata": {
        "id": "mB0n4dSeiOh9",
        "colab_type": "code",
        "colab": {
          "base_uri": "https://localhost:8080/",
          "height": 516
        },
        "outputId": "ece045a1-ed00-4506-9ba0-7c458ffaa0d8"
      },
      "source": [
        "# Use Random forest to classify MNIST images\n",
        "\n",
        "from __future__ import print_function\n",
        "\n",
        "import tensorflow as tf\n",
        "from tensorflow.python.ops import resources\n",
        "from tensorflow.contrib.tensor_forest.python import tensor_forest\n",
        "\n",
        "# Import MNIST data\n",
        "from tensorflow.examples.tutorials.mnist import input_data\n",
        "mnist = input_data.read_data_sets(\"/tmp/data\", one_hot=False)"
      ],
      "execution_count": 1,
      "outputs": [
        {
          "output_type": "stream",
          "text": [
            "WARNING: Logging before flag parsing goes to stderr.\n",
            "W0815 17:28:23.208465 140261121079168 deprecation.py:323] From <ipython-input-1-59973f381b33>:10: read_data_sets (from tensorflow.contrib.learn.python.learn.datasets.mnist) is deprecated and will be removed in a future version.\n",
            "Instructions for updating:\n",
            "Please use alternatives such as official/mnist/dataset.py from tensorflow/models.\n",
            "W0815 17:28:23.209789 140261121079168 deprecation.py:323] From /usr/local/lib/python2.7/dist-packages/tensorflow/contrib/learn/python/learn/datasets/mnist.py:260: maybe_download (from tensorflow.contrib.learn.python.learn.datasets.base) is deprecated and will be removed in a future version.\n",
            "Instructions for updating:\n",
            "Please write your own downloading logic.\n",
            "W0815 17:28:23.211518 140261121079168 deprecation.py:323] From /usr/local/lib/python2.7/dist-packages/tensorflow/contrib/learn/python/learn/datasets/base.py:252: wrapped_fn (from tensorflow.contrib.learn.python.learn.datasets.base) is deprecated and will be removed in a future version.\n",
            "Instructions for updating:\n",
            "Please use urllib or similar directly.\n",
            "W0815 17:28:23.294883 140261121079168 deprecation.py:323] From /usr/local/lib/python2.7/dist-packages/tensorflow/contrib/learn/python/learn/datasets/mnist.py:262: extract_images (from tensorflow.contrib.learn.python.learn.datasets.mnist) is deprecated and will be removed in a future version.\n",
            "Instructions for updating:\n",
            "Please use tf.data to implement this functionality.\n"
          ],
          "name": "stderr"
        },
        {
          "output_type": "stream",
          "text": [
            "Successfully downloaded train-images-idx3-ubyte.gz 9912422 bytes.\n",
            "Extracting /tmp/data/train-images-idx3-ubyte.gz\n"
          ],
          "name": "stdout"
        },
        {
          "output_type": "stream",
          "text": [
            "W0815 17:28:23.596537 140261121079168 deprecation.py:323] From /usr/local/lib/python2.7/dist-packages/tensorflow/contrib/learn/python/learn/datasets/mnist.py:267: extract_labels (from tensorflow.contrib.learn.python.learn.datasets.mnist) is deprecated and will be removed in a future version.\n",
            "Instructions for updating:\n",
            "Please use tf.data to implement this functionality.\n",
            "W0815 17:28:23.676176 140261121079168 deprecation.py:323] From /usr/local/lib/python2.7/dist-packages/tensorflow/contrib/learn/python/learn/datasets/mnist.py:290: __init__ (from tensorflow.contrib.learn.python.learn.datasets.mnist) is deprecated and will be removed in a future version.\n",
            "Instructions for updating:\n",
            "Please use alternatives such as official/mnist/dataset.py from tensorflow/models.\n"
          ],
          "name": "stderr"
        },
        {
          "output_type": "stream",
          "text": [
            "Successfully downloaded train-labels-idx1-ubyte.gz 28881 bytes.\n",
            "Extracting /tmp/data/train-labels-idx1-ubyte.gz\n",
            "Successfully downloaded t10k-images-idx3-ubyte.gz 1648877 bytes.\n",
            "Extracting /tmp/data/t10k-images-idx3-ubyte.gz\n",
            "Successfully downloaded t10k-labels-idx1-ubyte.gz 4542 bytes.\n",
            "Extracting /tmp/data/t10k-labels-idx1-ubyte.gz\n"
          ],
          "name": "stdout"
        }
      ]
    },
    {
      "cell_type": "code",
      "metadata": {
        "id": "c2p345c8ix7k",
        "colab_type": "code",
        "colab": {}
      },
      "source": [
        "# Hyper-parameters\n",
        "num_steps = 500 # total number of steps to train\n",
        "batch_size = 1024 # number of samples per batch\n",
        "num_classes = 10 # number of output classes for 0-9 digits\n",
        "num_features = 784 # each image is 28x28\n",
        "num_trees = 10\n",
        "max_nodes = 1000"
      ],
      "execution_count": 0,
      "outputs": []
    },
    {
      "cell_type": "code",
      "metadata": {
        "id": "vBBDMIeljMkO",
        "colab_type": "code",
        "colab": {}
      },
      "source": [
        "# input and target data\n",
        "X = tf.placeholder(tf.float32, shape=[None, num_features])\n",
        "Y = tf.placeholder(tf.int32, shape=[None])\n",
        "\n",
        "#Random Forest parameters\n",
        "hparams = tensor_forest.ForestHParams(num_classes=num_classes,\n",
        "                                     num_features=num_features,\n",
        "                                     num_trees = num_trees,\n",
        "                                     max_nodes = max_nodes).fill()"
      ],
      "execution_count": 0,
      "outputs": []
    },
    {
      "cell_type": "code",
      "metadata": {
        "id": "c9yM7P326fbX",
        "colab_type": "code",
        "colab": {
          "base_uri": "https://localhost:8080/",
          "height": 143
        },
        "outputId": "bbcec4b5-393a-4b26-99f8-3e762e6ae00d"
      },
      "source": [
        "# build the Random Forest\n",
        "forest_graph = tensor_forest.RandomForestGraphs(hparams)\n",
        "\n",
        "# get training graph and loss\n",
        "train_op = forest_graph.training_graph(X,Y)\n",
        "loss_op = forest_graph.training_loss(X,Y)\n",
        "\n",
        "# Make accuracy measurements\n",
        "infer_op, _, _ = forest_graph.inference_graph(X)\n",
        "correct_prediction = tf.equal(tf.argmax(infer_op,1), tf.cast(Y, tf.int64))\n",
        "accuracy_op = tf.reduce_mean(tf.cast(correct_prediction, tf.float32))\n",
        "\n",
        "# initialize the variables\n",
        "init = tf.group(tf.global_variables_initializer(),\n",
        "                resources.initialize_resources(resources.shared_resources()))"
      ],
      "execution_count": 4,
      "outputs": [
        {
          "output_type": "stream",
          "text": [
            "W0815 17:28:23.931164 140261121079168 deprecation.py:506] From /usr/local/lib/python2.7/dist-packages/tensorflow/python/ops/init_ops.py:1251: calling __init__ (from tensorflow.python.ops.init_ops) with dtype is deprecated and will be removed in a future version.\n",
            "Instructions for updating:\n",
            "Call initializer instance with the dtype argument instead of passing it to the constructor\n",
            "W0815 17:28:24.258132 140261121079168 deprecation.py:323] From /usr/local/lib/python2.7/dist-packages/tensorflow/contrib/tensor_forest/python/tensor_forest.py:529: div (from tensorflow.python.ops.math_ops) is deprecated and will be removed in a future version.\n",
            "Instructions for updating:\n",
            "Deprecated in favor of operator or tf.math.divide.\n"
          ],
          "name": "stderr"
        }
      ]
    },
    {
      "cell_type": "code",
      "metadata": {
        "id": "bUNRGhdT77Th",
        "colab_type": "code",
        "colab": {
          "base_uri": "https://localhost:8080/",
          "height": 303
        },
        "outputId": "e009a733-abdb-48ec-bdd9-2869aed33340"
      },
      "source": [
        "# start tensorflow session\n",
        "with tf.train.MonitoredSession() as sess:\n",
        "  sess.run(init)\n",
        "  \n",
        "  #Training\n",
        "  for i in range(1, num_steps+1) :\n",
        "    # prepare data\n",
        "    \n",
        "    # get the next batch of MNIST data (only images are needed not labels)\n",
        "    batch_x, batch_y = mnist.train.next_batch(batch_size)\n",
        "\n",
        "    _, l = sess.run([train_op, loss_op], feed_dict={X:batch_x, Y:batch_y})\n",
        "    if i%50 ==0 or i==1:\n",
        "      acc = sess.run(accuracy_op, feed_dict={X:batch_x, Y:batch_y})\n",
        "      print(\"Step\",i,\"Loss\", l, \"Accuracy\",acc)\n",
        "      \n",
        "  # Test the model\n",
        "  test_x, test_y = mnist.test.images, mnist.test.labels\n",
        "  print(\"Test accuracy\",sess.run(accuracy_op, feed_dict={X:test_x, Y:test_y})) "
      ],
      "execution_count": 5,
      "outputs": [
        {
          "output_type": "stream",
          "text": [
            "W0815 17:28:24.340109 140261121079168 deprecation.py:323] From /usr/local/lib/python2.7/dist-packages/tensorflow/python/ops/array_ops.py:1354: where (from tensorflow.python.ops.array_ops) is deprecated and will be removed in a future version.\n",
            "Instructions for updating:\n",
            "Use tf.where in 2.0, which has the same broadcast rule as np.where\n"
          ],
          "name": "stderr"
        },
        {
          "output_type": "stream",
          "text": [
            "Step 1 Loss -1.0 Accuracy 0.4404297\n",
            "Step 50 Loss -253.6 Accuracy 0.8701172\n",
            "Step 100 Loss -540.0 Accuracy 0.9003906\n",
            "Step 150 Loss -833.0 Accuracy 0.92089844\n",
            "Step 200 Loss -1001.0 Accuracy 0.9199219\n",
            "Step 250 Loss -1001.0 Accuracy 0.94140625\n",
            "Step 300 Loss -1001.0 Accuracy 0.9345703\n",
            "Step 350 Loss -1001.0 Accuracy 0.92871094\n",
            "Step 400 Loss -1001.0 Accuracy 0.92871094\n",
            "Step 450 Loss -1001.0 Accuracy 0.9277344\n",
            "Step 500 Loss -1001.0 Accuracy 0.92285156\n",
            "Test accuracy 0.921\n"
          ],
          "name": "stdout"
        }
      ]
    }
  ]
}